{
  "nbformat": 4,
  "nbformat_minor": 0,
  "metadata": {
    "kernelspec": {
      "display_name": "Python 3",
      "language": "python",
      "name": "python3"
    },
    "language_info": {
      "codemirror_mode": {
        "name": "ipython",
        "version": 3
      },
      "file_extension": ".py",
      "mimetype": "text/x-python",
      "name": "python",
      "nbconvert_exporter": "python",
      "pygments_lexer": "ipython3",
      "version": "3.7.6"
    },
    "colab": {
      "name": "Ensembles_(Part_2)_Anthony.ipynb",
      "provenance": [],
      "collapsed_sections": [
        "boYKauQ6uHif"
      ]
    }
  },
  "cells": [
    {
      "cell_type": "markdown",
      "metadata": {
        "id": "HABhxlgDuHiX"
      },
      "source": [
        "# II. Ensembles\n",
        "\n",
        "В задачах нужно корректно реализовать функции, чтобы проходили тесты. "
      ]
    },
    {
      "cell_type": "markdown",
      "metadata": {
        "id": "Jvls9GQxWK5O"
      },
      "source": [
        "## 1. Bootstrap."
      ]
    },
    {
      "cell_type": "markdown",
      "metadata": {
        "id": "9POKe84XWK6A"
      },
      "source": [
        "### Алгоритм Bootstrap \n",
        "* Равномерно возьмем из выборки $N$ объектов **с возвращением**. То есть мы хотим сгенерировать псевдовыборку, в которой могут повторятся элементы из исходной выборки. \n",
        "\n",
        "* Обозначим новую выборку через $X_1$. Повторяя процедуру $B$ раз, сгенерируем $M$ подвыборок $X_1, \\dots, X_B$. \n",
        "\n",
        "* Посчитаем статистику T от каждой выборки $(T(X_1), \\ldots, T(X_n))$\n",
        "\n",
        "* Найдем итоговую статистику $T(X) = \\frac{1}{B}\\sum^{B}_{i}T(X_i)$\n",
        "\n",
        "На вход массив чисел $X$ и число бутстрепных выборок $B$. Необходимо реализовать свой бутстреп и найти матожидание и стандартную ошибку у бутстрепных выборок.\n"
      ]
    },
    {
      "cell_type": "markdown",
      "metadata": {
        "id": "oNTDVikgWK6F"
      },
      "source": [
        "### TASK"
      ]
    },
    {
      "cell_type": "code",
      "metadata": {
        "id": "_awC3d6CWK6I"
      },
      "source": [
        "import numpy as np\n",
        "from scipy.stats import sem # ищет SE среднего\n",
        "\n",
        "def get_stats(X: np.array, B:int)->tuple:\n",
        "    ind = np.random.randint(0, X.shape[0], (B, X.shape[0]))\n",
        "    new = X[ind]\n",
        "    SE = sem(new, axis=1).mean()\n",
        "    mean = new.mean()\n",
        "    return mean, SE"
      ],
      "execution_count": 1,
      "outputs": []
    },
    {
      "cell_type": "markdown",
      "metadata": {
        "id": "tBKukC7quHib"
      },
      "source": [
        "### Open tests"
      ]
    },
    {
      "cell_type": "code",
      "metadata": {
        "id": "8Q_BGl04uHib"
      },
      "source": [
        "######################################################\n",
        "X = np.array([37,43,38,36,17,40,40,45,41,84])\n",
        "B = 100000\n",
        "\n",
        "mean, se = get_stats(X, B)\n",
        "\n",
        "assert np.abs(mean - 42.1) < 0.05\n",
        "assert np.abs(se - 4.56) < 0.03\n",
        "######################################################"
      ],
      "execution_count": 2,
      "outputs": []
    },
    {
      "cell_type": "markdown",
      "metadata": {
        "id": "UvuIlYgcuHic"
      },
      "source": [
        "# 2. Bagging"
      ]
    },
    {
      "cell_type": "markdown",
      "metadata": {
        "id": "1t9mjKG1uHic"
      },
      "source": [
        "Необходимо реализовать свой небольшой беггинг на деревьях заданной грубины\n",
        "\n",
        "* бустингом сделать несколько выборок $X_1, \\ldots, X_B$\n",
        "* обучить на этих выборках алгоритмы: $a_1(\\cdot), \\ldots, a_B(\\cdot)$\n",
        "\n",
        "Получить результат беггинга как:\n",
        "$$a(x) = \\frac{1}{B}\\sum_{b=1}^{B}a_b(x)$$\n"
      ]
    },
    {
      "cell_type": "markdown",
      "metadata": {
        "id": "M_g653bNuHid"
      },
      "source": [
        "# TASK"
      ]
    },
    {
      "cell_type": "code",
      "metadata": {
        "id": "oKMLPjbvuHid"
      },
      "source": [
        "import numpy as np\n",
        "from sklearn.tree import DecisionTreeRegressor as DTR\n",
        "\n",
        "def _draw_bootstrap_sample(X, y):\n",
        "    sample_indices = np.arange(X.shape[0])\n",
        "    bootstrap_indices = np.random.choice(sample_indices,\n",
        "                                         size=sample_indices.shape[0],\n",
        "                                         replace=True)\n",
        "    return X[bootstrap_indices], y[bootstrap_indices]\n",
        "\n",
        "\n",
        "def bagging(X_train, y_train, X_test, boot_count, depth):\n",
        "    estimators = np.array([DTR(max_depth=depth) for _ in range(boot_count)])\n",
        "    ### ╰( ͡° ͜ʖ ͡° )つ──☆*:YOUR CODE HERE・ﾟ\n",
        "    \n",
        "    all_pred = np.zeros((boot_count, y_test.shape[0]), dtype=np.int)\n",
        "\n",
        "    for i, estimator in enumerate(estimators):\n",
        "        X_boot, y_boot = _draw_bootstrap_sample(X_train, y_train)\n",
        "        pred = estimator.fit(X_boot, y_boot).predict(X_test)\n",
        "\n",
        "        all_pred[i] = pred\n",
        "\n",
        "    y_pred = np.mean(all_pred, axis=0) #average predict for specific point\n",
        "\n",
        "    return y_pred\n",
        "    "
      ],
      "execution_count": 3,
      "outputs": []
    },
    {
      "cell_type": "code",
      "metadata": {
        "colab": {
          "base_uri": "https://localhost:8080/"
        },
        "id": "qt-wKFJNuHid",
        "outputId": "0a0e26c8-dc0d-4f7c-d4ce-3ebab894ed37"
      },
      "source": [
        "import numpy as np\n",
        "from numpy.testing import assert_array_equal, assert_array_almost_equal, assert_equal, assert_almost_equal\n",
        "from sklearn.metrics import mean_squared_error\n",
        "from sklearn.model_selection import train_test_split\n",
        "from sklearn.ensemble import RandomForestRegressor\n",
        "\n",
        "######################################################\n",
        "\n",
        "X_train = np.array([[0, 0], [1, 1], [5, 5], [8, 8], [10, 10]])\n",
        "y_train = np.array([0, 1, 5, 8, 10])\n",
        "X_test  = np.array([[4, 4], [6, 6]])\n",
        "y_test  = np.array([4, 6])\n",
        "\n",
        "B = 1000\n",
        "\n",
        "y_pred = bagging(X_train, y_train, X_test, boot_count=B, depth=3)\n",
        "\n",
        "assert_array_almost_equal(y_pred, np.array([4, 6]), decimal=0)\n",
        "\n",
        "######################################################\n",
        "\n",
        "from sklearn.datasets import load_boston\n",
        "X, y = load_boston(return_X_y=True)\n",
        "\n",
        "X_train, X_test, y_train, y_test = train_test_split(X, y,\n",
        "                                                    test_size=0.3,\n",
        "                                                    random_state=123,\n",
        "                                                    shuffle=True)\n",
        "\n",
        "\n",
        "y_pred = bagging(X_train, y_train, X_test, boot_count=200, depth=10)\n",
        "\n",
        "y_dt_pred = DTR().fit(X_train, y_train).predict(X_test)\n",
        "y = RandomForestRegressor().fit(X_train, y_train).predict(X_test)\n",
        "\n",
        "print(mean_squared_error(y, y_test)) #получаем, что случайный лес имеет самое маленькое MSE\n",
        "print(mean_squared_error(y_dt_pred, y_test))\n",
        "print(mean_squared_error(y_pred, y_test))\n",
        "assert mean_squared_error(y_pred, y_test) < 15"
      ],
      "execution_count": 4,
      "outputs": [
        {
          "output_type": "stream",
          "name": "stdout",
          "text": [
            "14.7359580131579\n",
            "18.08625\n",
            "14.753291118421053\n"
          ]
        }
      ]
    },
    {
      "cell_type": "markdown",
      "metadata": {
        "id": "C4fTECG4uHie"
      },
      "source": [
        "## 3. X-regression"
      ]
    },
    {
      "cell_type": "markdown",
      "metadata": {
        "id": "rEAsS4zNuHie"
      },
      "source": [
        "Необходимо найти наилучшие параметры для XGBRegression, обучить модель и вернуть ее. Данные берутся из папки data.\n",
        "\n",
        "Сам гридсерч или нативное исследование необходимо делать вне функции обработки, чтобы не получить TL."
      ]
    },
    {
      "cell_type": "markdown",
      "metadata": {
        "id": "eWWYlIkRuHie"
      },
      "source": [
        "### TASK"
      ]
    },
    {
      "cell_type": "code",
      "metadata": {
        "id": "ixL5Da7IuHif"
      },
      "source": [
        "def xreg(X_train, y_train):\n",
        "    state_params = {\n",
        "        'silent':1,\n",
        "        'nthread' : 4,\n",
        "        'n_estimators':100,\n",
        "        'max_depth':3,\n",
        "        'learning_rate': 0.015, \n",
        "        'min_child_weight': 7\n",
        "    }\n",
        "    xgb_model  = XGBRegressor(**state_params).fit(X_train, y_train)\n",
        "    return xgb_model"
      ],
      "execution_count": 5,
      "outputs": []
    },
    {
      "cell_type": "markdown",
      "metadata": {
        "id": "boYKauQ6uHif"
      },
      "source": [
        "### OPEN TESTS"
      ]
    },
    {
      "cell_type": "code",
      "metadata": {
        "id": "EEJJpx4kuHif"
      },
      "source": [
        "df = pd.read_csv('Financial Distress.csv')\n",
        "\n",
        "X = df.drop('Financial Distress', axis=1)\n",
        "y = df['Financial Distress']\n",
        "\n",
        "X_train, X_test, y_train, y_test = train_test_split(X, y, test_size=0.3, random_state=17)\n",
        "\n",
        "t1 = time.time()\n",
        "xgb_model = xreg(X_train, y_train)\n",
        "t2 = time.time()\n",
        "\n",
        "assert t2 - t1 < 10\n",
        "\n",
        "y_pred = xgb_model.predict(X_test)\n",
        "\n",
        "assert type(xgb_model) == xgboost.sklearn.XGBRegressor\n",
        "assert MSE(y_pred, y_test) < 3\n",
        "print('Well Done')"
      ],
      "execution_count": null,
      "outputs": []
    },
    {
      "cell_type": "markdown",
      "metadata": {
        "id": "FkU0onTeuHig"
      },
      "source": [
        "## 4. CatFeatures"
      ]
    },
    {
      "cell_type": "markdown",
      "metadata": {
        "id": "dv0PXa9NuHig"
      },
      "source": [
        "Обучите модель классификации катбуста на предложенных данных и верните обученную модель. \n",
        "\n",
        "Воспользуйтесь встроенной обработкой категориальных признаков. Не забудьте обработать Nan значения."
      ]
    },
    {
      "cell_type": "code",
      "metadata": {
        "id": "JtjBY3I263sT"
      },
      "source": [
        "pip install catboost"
      ],
      "execution_count": null,
      "outputs": []
    },
    {
      "cell_type": "code",
      "metadata": {
        "id": "PRrp33icpiOE"
      },
      "source": [
        "import pandas as pd"
      ],
      "execution_count": 7,
      "outputs": []
    },
    {
      "cell_type": "code",
      "metadata": {
        "colab": {
          "base_uri": "https://localhost:8080/",
          "height": 204
        },
        "id": "xBynfz2h-Bq4",
        "outputId": "22be862d-ba3f-40d3-ca95-c121accc838c"
      },
      "source": [
        "df = pd.read_csv('flight_delays_train.csv')\n",
        "df.head()"
      ],
      "execution_count": 20,
      "outputs": [
        {
          "output_type": "execute_result",
          "data": {
            "text/html": [
              "<div>\n",
              "<style scoped>\n",
              "    .dataframe tbody tr th:only-of-type {\n",
              "        vertical-align: middle;\n",
              "    }\n",
              "\n",
              "    .dataframe tbody tr th {\n",
              "        vertical-align: top;\n",
              "    }\n",
              "\n",
              "    .dataframe thead th {\n",
              "        text-align: right;\n",
              "    }\n",
              "</style>\n",
              "<table border=\"1\" class=\"dataframe\">\n",
              "  <thead>\n",
              "    <tr style=\"text-align: right;\">\n",
              "      <th></th>\n",
              "      <th>Month</th>\n",
              "      <th>DayofMonth</th>\n",
              "      <th>DayOfWeek</th>\n",
              "      <th>DepTime</th>\n",
              "      <th>UniqueCarrier</th>\n",
              "      <th>Origin</th>\n",
              "      <th>Dest</th>\n",
              "      <th>Distance</th>\n",
              "      <th>dep_delayed_15min</th>\n",
              "    </tr>\n",
              "  </thead>\n",
              "  <tbody>\n",
              "    <tr>\n",
              "      <th>0</th>\n",
              "      <td>c-8</td>\n",
              "      <td>c-21</td>\n",
              "      <td>c-7</td>\n",
              "      <td>1934</td>\n",
              "      <td>AA</td>\n",
              "      <td>ATL</td>\n",
              "      <td>DFW</td>\n",
              "      <td>732</td>\n",
              "      <td>N</td>\n",
              "    </tr>\n",
              "    <tr>\n",
              "      <th>1</th>\n",
              "      <td>c-4</td>\n",
              "      <td>c-20</td>\n",
              "      <td>c-3</td>\n",
              "      <td>1548</td>\n",
              "      <td>US</td>\n",
              "      <td>PIT</td>\n",
              "      <td>MCO</td>\n",
              "      <td>834</td>\n",
              "      <td>N</td>\n",
              "    </tr>\n",
              "    <tr>\n",
              "      <th>2</th>\n",
              "      <td>c-9</td>\n",
              "      <td>c-2</td>\n",
              "      <td>c-5</td>\n",
              "      <td>1422</td>\n",
              "      <td>XE</td>\n",
              "      <td>RDU</td>\n",
              "      <td>CLE</td>\n",
              "      <td>416</td>\n",
              "      <td>N</td>\n",
              "    </tr>\n",
              "    <tr>\n",
              "      <th>3</th>\n",
              "      <td>c-11</td>\n",
              "      <td>c-25</td>\n",
              "      <td>c-6</td>\n",
              "      <td>1015</td>\n",
              "      <td>OO</td>\n",
              "      <td>DEN</td>\n",
              "      <td>MEM</td>\n",
              "      <td>872</td>\n",
              "      <td>N</td>\n",
              "    </tr>\n",
              "    <tr>\n",
              "      <th>4</th>\n",
              "      <td>c-10</td>\n",
              "      <td>c-7</td>\n",
              "      <td>c-6</td>\n",
              "      <td>1828</td>\n",
              "      <td>WN</td>\n",
              "      <td>MDW</td>\n",
              "      <td>OMA</td>\n",
              "      <td>423</td>\n",
              "      <td>Y</td>\n",
              "    </tr>\n",
              "  </tbody>\n",
              "</table>\n",
              "</div>"
            ],
            "text/plain": [
              "  Month DayofMonth DayOfWeek  DepTime  ... Origin Dest Distance  dep_delayed_15min\n",
              "0   c-8       c-21       c-7     1934  ...    ATL  DFW      732                  N\n",
              "1   c-4       c-20       c-3     1548  ...    PIT  MCO      834                  N\n",
              "2   c-9        c-2       c-5     1422  ...    RDU  CLE      416                  N\n",
              "3  c-11       c-25       c-6     1015  ...    DEN  MEM      872                  N\n",
              "4  c-10        c-7       c-6     1828  ...    MDW  OMA      423                  Y\n",
              "\n",
              "[5 rows x 9 columns]"
            ]
          },
          "metadata": {},
          "execution_count": 20
        }
      ]
    },
    {
      "cell_type": "code",
      "metadata": {
        "id": "4j56ZVQime5X",
        "colab": {
          "base_uri": "https://localhost:8080/",
          "height": 297
        },
        "outputId": "2a453d42-9c99-472c-c8c9-f80abdc537bb"
      },
      "source": [
        "df.describe()"
      ],
      "execution_count": 10,
      "outputs": [
        {
          "output_type": "execute_result",
          "data": {
            "text/html": [
              "<div>\n",
              "<style scoped>\n",
              "    .dataframe tbody tr th:only-of-type {\n",
              "        vertical-align: middle;\n",
              "    }\n",
              "\n",
              "    .dataframe tbody tr th {\n",
              "        vertical-align: top;\n",
              "    }\n",
              "\n",
              "    .dataframe thead th {\n",
              "        text-align: right;\n",
              "    }\n",
              "</style>\n",
              "<table border=\"1\" class=\"dataframe\">\n",
              "  <thead>\n",
              "    <tr style=\"text-align: right;\">\n",
              "      <th></th>\n",
              "      <th>DepTime</th>\n",
              "      <th>Distance</th>\n",
              "    </tr>\n",
              "  </thead>\n",
              "  <tbody>\n",
              "    <tr>\n",
              "      <th>count</th>\n",
              "      <td>100000.000000</td>\n",
              "      <td>100000.00000</td>\n",
              "    </tr>\n",
              "    <tr>\n",
              "      <th>mean</th>\n",
              "      <td>1341.523880</td>\n",
              "      <td>729.39716</td>\n",
              "    </tr>\n",
              "    <tr>\n",
              "      <th>std</th>\n",
              "      <td>476.378445</td>\n",
              "      <td>574.61686</td>\n",
              "    </tr>\n",
              "    <tr>\n",
              "      <th>min</th>\n",
              "      <td>1.000000</td>\n",
              "      <td>30.00000</td>\n",
              "    </tr>\n",
              "    <tr>\n",
              "      <th>25%</th>\n",
              "      <td>931.000000</td>\n",
              "      <td>317.00000</td>\n",
              "    </tr>\n",
              "    <tr>\n",
              "      <th>50%</th>\n",
              "      <td>1330.000000</td>\n",
              "      <td>575.00000</td>\n",
              "    </tr>\n",
              "    <tr>\n",
              "      <th>75%</th>\n",
              "      <td>1733.000000</td>\n",
              "      <td>957.00000</td>\n",
              "    </tr>\n",
              "    <tr>\n",
              "      <th>max</th>\n",
              "      <td>2534.000000</td>\n",
              "      <td>4962.00000</td>\n",
              "    </tr>\n",
              "  </tbody>\n",
              "</table>\n",
              "</div>"
            ],
            "text/plain": [
              "             DepTime      Distance\n",
              "count  100000.000000  100000.00000\n",
              "mean     1341.523880     729.39716\n",
              "std       476.378445     574.61686\n",
              "min         1.000000      30.00000\n",
              "25%       931.000000     317.00000\n",
              "50%      1330.000000     575.00000\n",
              "75%      1733.000000     957.00000\n",
              "max      2534.000000    4962.00000"
            ]
          },
          "metadata": {},
          "execution_count": 10
        }
      ]
    },
    {
      "cell_type": "code",
      "metadata": {
        "id": "fd7ZUzaFFg7o"
      },
      "source": [
        "from catboost import Pool\n",
        "\n",
        "def catfeatures(df : pd.DataFrame):\n",
        "    X = df.drop('dep_delayed_15min',axis=1)\n",
        "    y = df['dep_delayed_15min'].map({'N':0, 'Y':1})\n",
        "    \n",
        "    is_cat = (X.dtypes == object)\n",
        "    for feature, feat_is_cat in is_cat.to_dict().items():\n",
        "        if feat_is_cat:\n",
        "            X[feature].fillna(\"NAN\", inplace=True)\n",
        "\n",
        "    cat_features_index = np.where(is_cat)[0]\n",
        "    \n",
        "    train_pool = Pool(data=X, \n",
        "                      label=y, \n",
        "                      cat_features=cat_features_index)\n",
        "    \n",
        "    model = CatBoostClassifier(eval_metric='Accuracy', verbose=False)\n",
        "    model.fit(train_pool, metric_period=100)\n",
        "    \n",
        "    return model"
      ],
      "execution_count": 22,
      "outputs": []
    },
    {
      "cell_type": "markdown",
      "metadata": {
        "id": "eLYriGfTuHig"
      },
      "source": [
        "### TASK"
      ]
    },
    {
      "cell_type": "code",
      "metadata": {
        "id": "X1rUQp7juHig"
      },
      "source": [
        "import catboost\n",
        "import pandas as pd\n",
        "import time\n",
        "from catboost import Pool\n",
        "\n",
        "'''\n",
        "def catfeatures(df: pd.DataFrame):\n",
        "    X_train, y_train = (\n",
        "      df[[\"Distance\", \"DepTime\"]].values,\n",
        "      df[\"dep_delayed_15min\"].map({\"Y\" :1, \"N\": 0}).values)\n",
        "\n",
        "    is_cat = (df.dtypes == object)\n",
        "    for feature, feat_is_cat in is_cat.to_dict().items():\n",
        "      if feat_is_cat:\n",
        "          df[feature].fillna(\"NAN\", inplace=True)\n",
        "\n",
        " \n",
        "    cat_features_index = np.where(is_cat)[0]\n",
        "    train_pool = Pool(data=X_train, \n",
        "                      label=y_train, \n",
        "                      cat_features=cat_features_index)\n",
        "    \n",
        "    model = CatBoostClassifier(eval_metric='Accuracy', verbose=False)\n",
        "    model.fit(train_pool, metric_period=100)\n",
        "\n",
        "    return model\n",
        "'''"
      ],
      "execution_count": null,
      "outputs": []
    },
    {
      "cell_type": "markdown",
      "metadata": {
        "id": "HEHyRT8auHig"
      },
      "source": [
        "### TESTS"
      ]
    },
    {
      "cell_type": "code",
      "metadata": {
        "id": "En8_GBVsuHih",
        "colab": {
          "base_uri": "https://localhost:8080/"
        },
        "outputId": "f4a502c3-f9d1-463c-c0cd-67fac919983f"
      },
      "source": [
        "import time\n",
        "import catboost\n",
        "from catboost import CatBoostClassifier\n",
        "from sklearn.metrics import accuracy_score\n",
        "\n",
        "df = pd.read_csv('flight_delays_train.csv')\n",
        "df_train = df[:7000]\n",
        "\n",
        "t1 = time.time()\n",
        "model = catfeatures(df_train)\n",
        "t2 = time.time()\n",
        "\n",
        "#assert t2 - t1 < 10\n",
        "assert type(model) == catboost.CatBoostClassifier\n",
        "\n",
        "df_test = pd.read_csv('flight_catfeature_test.csv')\n",
        "df_test = df_test.drop('Unnamed: 0', axis=1)\n",
        "X_test = df_test.drop('dep_delayed_15min',axis=1)\n",
        "y_test = df_test['dep_delayed_15min']\n",
        "\n",
        "y_pred = model.predict(X_test)\n",
        "assert accuracy_score(y_test, y_pred) > 0.80 \n",
        "print('Well Done')"
      ],
      "execution_count": 33,
      "outputs": [
        {
          "output_type": "stream",
          "name": "stdout",
          "text": [
            "Well Done\n"
          ]
        }
      ]
    },
    {
      "cell_type": "markdown",
      "metadata": {
        "id": "9EHkKl-xuHih"
      },
      "source": [
        "## 5. Производные для регрессии"
      ]
    },
    {
      "cell_type": "markdown",
      "metadata": {
        "id": "7xg7lPlAuHii"
      },
      "source": [
        "Пусть мы хотим бустить регрессию со стандартной функцией потерь $MSE$:\n",
        "\n",
        "$$\\mathcal{L}(a, x,y) = (a(x_i) - y_i)^2$$\n",
        "\n",
        "Необходимо найти через взятие производных:\n",
        "\n",
        "1. Константный вектор $[f_0]_{i=1}^{N}$\n",
        "$$f_0(x) = \\arg\\min_{ c\\in \\mathbb{R}} \\sum_{i=1}^n \\mathcal{L}(c, y_i)$$ \n",
        "\n",
        "2. Градиенты функции потерь\n",
        "$$g_{i}^{t} = -\\Big[\\frac{\\partial \\mathcal{L}(f_t, x_i, y_i)}{\\partial f_t(x_i)}\\Big]_{i=1}^N$$\n",
        "\n",
        "3. Коэффициенты при композиции \n",
        "$$\\alpha_{t + 1} = \\arg\\min_\\alpha \\sum_{i=1}^N \\mathcal{L}(f_{t}(x_i) + \\alpha b_{t+1}(x_i), y_i)$$"
      ]
    },
    {
      "cell_type": "markdown",
      "metadata": {
        "id": "Gbi_EkzKuHii"
      },
      "source": [
        "### TASK"
      ]
    },
    {
      "cell_type": "code",
      "metadata": {
        "id": "ZjhNeu3XuHii"
      },
      "source": [
        "def init(y_i: np.array) -> float:\n",
        "    f_0 = np.mean(y_i)\n",
        "    return f_0\n",
        "\n",
        "def grad(a: np.array, y: np.array) -> np.array:\n",
        "    g = 2 * (f - y)\n",
        "    return -g\n",
        "\n",
        "def alpha(f :np.array, b: np.array, y: np.array) -> float:\n",
        "    alpha = np.sum(b * (f - y)) / np.sum(b*b)\n",
        "    return alpha"
      ],
      "execution_count": 34,
      "outputs": []
    },
    {
      "cell_type": "markdown",
      "metadata": {
        "id": "VW8pOPbbuHii"
      },
      "source": [
        "### TESTS"
      ]
    },
    {
      "cell_type": "code",
      "metadata": {
        "colab": {
          "base_uri": "https://localhost:8080/"
        },
        "id": "fYa7m0L1uHij",
        "outputId": "06d3f3ce-11fd-4324-eed6-abda93cf645e"
      },
      "source": [
        "y = np.array([1, 2, 3])\n",
        "f = np.array([2, 2, 2])\n",
        "b = np.array([0, 2, 4])\n",
        "\n",
        "f_0 = init(y)\n",
        "g = grad(f,y)\n",
        "al = alpha(f,b,y)\n",
        "\n",
        "\n",
        "assert np.abs(f_0 - 2.0)   < 1e-9\n",
        "assert_array_almost_equal(g, np.array([-2, 0, 2]))\n",
        "assert np.abs(al - (-0.2)) < 1e-9\n",
        "######################################################\n",
        "y = np.arange(20)\n",
        "f = np.ones(20) * 10\n",
        "b = np.arange(20) - 1\n",
        "\n",
        "f_0 = init(y)\n",
        "g = grad(f,y)\n",
        "al = alpha(f,b,y)\n",
        "\n",
        "\n",
        "assert np.abs(f_0 - 9.5)   < 1e-2\n",
        "assert_array_almost_equal(g, np.arange(-20,20, 2))\n",
        "assert np.abs(al - (-0.2748)) < 1e-2\n",
        "print('Well Done!')"
      ],
      "execution_count": 35,
      "outputs": [
        {
          "output_type": "stream",
          "name": "stdout",
          "text": [
            "Well Done!\n"
          ]
        }
      ]
    },
    {
      "cell_type": "markdown",
      "metadata": {
        "id": "Mrab5F3luHij"
      },
      "source": [
        "## 6. GradientBoosting"
      ]
    },
    {
      "cell_type": "markdown",
      "metadata": {
        "id": "qQktU1TzuHik"
      },
      "source": [
        "Реализуйте градиентный бустинг на решающих деревьях для регрессии с логгированием.Верните модель, которая будет хранить в себе `n_estimatos` обученных деревьев и коэффициенты, чтобы с их помощью потом найти результат предсказания.\n",
        "\n",
        "Также необходимо реализовать логгирование в течение обучения.\n",
        "* `self.estimators` - лист c деревьями\n",
        "* `self.alpha` - лист с коэффициентами альфа\n",
        "* `self.f_list` - лист со значениями комбинаций алгоритма $f_T(x_i) = f_0(x_i) + \\sum_{t=1}^{T}\\alpha_tb_t(x_i)$\n",
        "* `self.g_list` - лист с векторами градиентов на каждой итерации $g_{i}^{t} = -\\Big[\\frac{\\partial \\mathcal{L}(f_t, x_i, y_i)}{\\partial f_t(x_i)}\\Big]_{i=1}^N$\n",
        "* `self.b_list` - лист со значениями базового обучаемого дерева на тренировачной выборке на каждой итерации \n",
        "\n",
        "Примечания:\n",
        "* Обрывать алгоритм не нужно, необходимо обучить все деревья.\n",
        "* Начальный константный вектор из $f_0$ логгировать не нужно, однако не забудьте его добавить в `predict` c нужным количеством объектов!"
      ]
    },
    {
      "cell_type": "markdown",
      "metadata": {
        "id": "XKol0Ss2uHik"
      },
      "source": [
        "### TASK"
      ]
    },
    {
      "cell_type": "code",
      "metadata": {
        "id": "DhXmyCNNuHil"
      },
      "source": [
        "import numpy as np\n",
        "from sklearn.tree import DecisionTreeRegressor as DTR\n",
        "from sklearn.metrics import mean_squared_error\n",
        "\n",
        "class MyGradBoost():\n",
        "    def __init__(self, n_estimators=10, max_depth=3):\n",
        "        self.n_estimators = n_estimators\n",
        "        self.max_depth = max_depth\n",
        "        self.estimators_ = np.array([DTR(max_depth=self.max_depth) for _ in range(n_estimators)])\n",
        "        self.alpha = []\n",
        "        self.f_list = []\n",
        "        self.b_list = []\n",
        "        self.g_list = []\n",
        "        \n",
        "    def fit(self, X_train: np.array, y_train: np.array): \n",
        "        self.const = np.mean(y_train)\n",
        "        f = np.ones(len(y_train)) * self.const\n",
        "\n",
        "        for i, estimator in enumerate(self.estimators_):   \n",
        "            g = -2 * (f - y_train)\n",
        "            estimator.fit(X_train, g) #обучаем на остатки \n",
        "            b = estimator.predict(X_train) #предиктим базовый алгоритм \n",
        "            al = -np.sum(b * (f - y_train)) / np.sum(b * b)\n",
        "            f = f + al * b\n",
        "            self.alpha.append(al)\n",
        "            self.b_list.append(b)\n",
        "            self.g_list.append(g)\n",
        "            self.f_list.append(f)\n",
        "\n",
        "        return self\n",
        "        \n",
        "    def predict(self, X_test) -> np.array:\n",
        "        f = np.ones(len(X_test)) * self.const\n",
        "        ar_alpha = np.array(self.alpha)\n",
        "        result = np.array([estimator.predict(X_test) for estimator in self.estimators_])\n",
        "        return f + np.sum(result * ar_alpha[:, np.newaxis], axis=0)\n",
        "    \n",
        "    def score(self, X_test, y_test)-> np.array:\n",
        "        return mean_squared_error(self.predict(X_test), y_test)"
      ],
      "execution_count": 38,
      "outputs": []
    },
    {
      "cell_type": "markdown",
      "metadata": {
        "id": "wSCVfk6ZuHil"
      },
      "source": [
        "### TESTS"
      ]
    },
    {
      "cell_type": "code",
      "metadata": {
        "colab": {
          "base_uri": "https://localhost:8080/"
        },
        "id": "hrZAX682uHil",
        "outputId": "dcfadf10-a7d3-414a-edd3-8a62f00daddc"
      },
      "source": [
        "n_estimators = 2\n",
        "max_depth=3\n",
        "X_train = np.array([[0], [1], [2], [3], [4]])\n",
        "y_train = np.array([0, 2, 4, 2, 0])\n",
        "X_test  = np.array([[1.2], [2.3]])\n",
        "y_test  = np.array([2.2, 3.7])\n",
        "\n",
        "model = MyGradBoost(n_estimators=n_estimators, max_depth=max_depth).fit(X_train, y_train)\n",
        "assert model.score(X_test, y_test) < 0.2\n",
        "######################################################\n",
        "n_train, n_test, noise = 150, 1000, 0.1\n",
        "# Generate data\n",
        "def f(x):\n",
        "    x = x.ravel()\n",
        "    return np.exp(-x ** 2) + 1.5 * np.exp(-(x - 2) ** 2)\n",
        "\n",
        "def generate(n_samples, noise):\n",
        "    X = np.random.rand(n_samples) * 10 - 5\n",
        "    X = np.sort(X).ravel()\n",
        "    y = np.exp(-X ** 2) + 1.5 * np.exp(-(X - 2) ** 2)\\\n",
        "        + np.random.normal(0.0, noise, n_samples)\n",
        "    X = X.reshape((n_samples, 1))\n",
        "\n",
        "    return X, y\n",
        "\n",
        "X_train, y_train = generate(n_samples=n_train, noise=noise)\n",
        "X_test, y_test = generate(n_samples=n_test, noise=noise)\n",
        "\n",
        "\n",
        "model = MyGradBoost().fit(X_train, y_train)\n",
        "\n",
        "assert model.score(X_test, y_test) < 0.025\n",
        "\n",
        "\n",
        "model = MyGradBoost(n_estimators=100, \n",
        "                    max_depth=1).fit(X_train, y_train)\n",
        "\n",
        "assert model.score(X_test, y_test) < 0.017\n",
        "print('Well Done')"
      ],
      "execution_count": 39,
      "outputs": [
        {
          "output_type": "stream",
          "name": "stdout",
          "text": [
            "Well Done\n"
          ]
        }
      ]
    },
    {
      "cell_type": "markdown",
      "metadata": {
        "id": "VxiYIyFPuHim"
      },
      "source": [
        "# Самопроверка"
      ]
    },
    {
      "cell_type": "code",
      "metadata": {
        "colab": {
          "base_uri": "https://localhost:8080/",
          "height": 265
        },
        "id": "XmpVg4HOuHim",
        "outputId": "85785cce-1fb6-4e00-d4a3-018dfe3c1e83"
      },
      "source": [
        "import matplotlib.pyplot as plt\n",
        "def predict_and_plot(model, X_test, y_test, title):\n",
        "    y_predict = model.predict(X_test)\n",
        "\n",
        "    plt.plot(X_test, f(X_test), \"b\")\n",
        "    plt.scatter(X_train, y_train, c=\"b\", s=20)\n",
        "    plt.plot(X_test, y_predict, \"g\", lw=2)\n",
        "    plt.xlim([-5, 5])\n",
        "    plt.title(\"{} Loss: {:2f}\".format(title, model.score(X_test, y_test)))\n",
        "    plt.grid()\n",
        "\n",
        "\n",
        "\n",
        "model = MyGradBoost(n_estimators=30, \n",
        "                    max_depth=1).fit(X_train, y_train)\n",
        "\n",
        "ind =  [1,3,5,10,15,30]\n",
        "\n",
        "# GradientBoostingRegressor\n",
        "plt.plot(X_test, f(X_test), \"b\")\n",
        "plt.scatter(X_train, y_train, c=\"b\", s=20)\n",
        "n_est = [1,3,5,10,15,30]\n",
        "f = np.array(model.f_list)\n",
        "for i, n in enumerate(n_est):\n",
        "    colors = ['g', 'r', 'c', 'm', 'y', 'k']\n",
        "    plt.plot(X_train, f[n-1], color=colors[i], label=\"tree count={}\".format(n))\n",
        "\n",
        "plt.xlim([-5, 5])   \n",
        "plt.legend()\n",
        "plt.grid()\n",
        "plt.show()"
      ],
      "execution_count": 40,
      "outputs": [
        {
          "output_type": "display_data",
          "data": {
            "image/png": "[encoded data removed]",
            "text/plain": [
              "<Figure size 432x288 with 1 Axes>"
            ]
          },
          "metadata": {
            "needs_background": "light"
          }
        }
      ]
    }
  ]
}