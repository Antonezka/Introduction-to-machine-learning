{
  "nbformat": 4,
  "nbformat_minor": 0,
  "metadata": {
    "kernelspec": {
      "display_name": "Python 3",
      "language": "python",
      "name": "python3"
    },
    "language_info": {
      "codemirror_mode": {
        "name": "ipython",
        "version": 3
      },
      "file_extension": ".py",
      "mimetype": "text/x-python",
      "name": "python",
      "nbconvert_exporter": "python",
      "pygments_lexer": "ipython3",
      "version": "3.7.6"
    },
    "colab": {
      "name": "DecisionTree_(Part1)_mysol.ipynb",
      "provenance": []
    }
  },
  "cells": [
    {
      "cell_type": "markdown",
      "metadata": {
        "id": "cbFxDXo44ZzX"
      },
      "source": [
        "# Homework 3. \n",
        "# I. Decision Tree."
      ]
    },
    {
      "cell_type": "markdown",
      "metadata": {
        "id": "Q93E5pIdPetF",
        "toc": true
      },
      "source": [
        "<h1>Table of Contents<span class=\"tocSkip\"></span></h1>\n",
        "<div class=\"toc\"><ul class=\"toc-item\"><li><span><a href=\"#Подготовка-данных\" data-toc-modified-id=\"Подготовка-данных-1\"><span class=\"toc-item-num\">1&nbsp;&nbsp;</span>Подготовка данных</a></span></li><li><span><a href=\"#Разделение-на-train,-test\" data-toc-modified-id=\"Разделение-на-train,-test-2\"><span class=\"toc-item-num\">2&nbsp;&nbsp;</span>Разделение на train, test</a></span></li><li><span><a href=\"#Fit-MyDecisionTree\" data-toc-modified-id=\"Fit-MyDecisionTree-3\"><span class=\"toc-item-num\">3&nbsp;&nbsp;</span>Fit MyDecisionTree</a></span></li><li><span><a href=\"#Predict-MyDecisionTree\" data-toc-modified-id=\"Predict-MyDecisionTree-4\"><span class=\"toc-item-num\">4&nbsp;&nbsp;</span>Predict MyDecisionTree</a></span></li><li><span><a href=\"#Train-with-sklearn\" data-toc-modified-id=\"Train-with-sklearn-5\"><span class=\"toc-item-num\">5&nbsp;&nbsp;</span>Train with sklearn</a></span></li><li><span><a href=\"#Сравнение-метрик\" data-toc-modified-id=\"Сравнение-метрик-6\"><span class=\"toc-item-num\">6&nbsp;&nbsp;</span>Сравнение метрик</a></span></li></ul></div>"
      ]
    },
    {
      "cell_type": "markdown",
      "metadata": {
        "id": "WstusuN4PetG"
      },
      "source": [
        "# Задание  \n",
        "\n",
        "1. Напишите свой алгоритм построения дерева решений для задачи бинарной классификации.  \n",
        "    - критерий информативности - Энтропия Шеннона\n",
        "    - критерии останова - максимальная глубина, кол-во элементов в листе, прирост энтропии < x\n",
        "2. Сравните результат работы своего алгоритма с sklearn    "
      ]
    },
    {
      "cell_type": "markdown",
      "metadata": {
        "id": "Ia9gyoKsPetI"
      },
      "source": [
        "## Подготовка данных\n",
        "Рассмотрим задачу \"Титаник\" https://www.kaggle.com/c/titanic/data. Необходимо предсказать выживет пассажир или нет."
      ]
    },
    {
      "cell_type": "code",
      "metadata": {
        "id": "1ieX27epPetK"
      },
      "source": [
        "import numpy as np\n",
        "import pandas as pd\n",
        "import matplotlib.pyplot as plt\n",
        "from sklearn.metrics import roc_auc_score, accuracy_score, confusion_matrix "
      ],
      "execution_count": 1,
      "outputs": []
    },
    {
      "cell_type": "code",
      "metadata": {
        "id": "RqAcv2K0PetQ",
        "colab": {
          "base_uri": "https://localhost:8080/",
          "height": 204
        },
        "outputId": "78968f21-be20-4415-c222-485e495a6109"
      },
      "source": [
        "# считаем данные из файла в pandas DataFrame\n",
        "df = pd.read_csv(\"train.csv\")\n",
        "\n",
        "# зафиксируем целевую переменную и удалим ее из данных\n",
        "y = df['Survived']\n",
        "df.drop('Survived', axis=1, inplace=True)\n",
        "df.head()"
      ],
      "execution_count": 2,
      "outputs": [
        {
          "output_type": "execute_result",
          "data": {
            "text/html": [
              "<div>\n",
              "<style scoped>\n",
              "    .dataframe tbody tr th:only-of-type {\n",
              "        vertical-align: middle;\n",
              "    }\n",
              "\n",
              "    .dataframe tbody tr th {\n",
              "        vertical-align: top;\n",
              "    }\n",
              "\n",
              "    .dataframe thead th {\n",
              "        text-align: right;\n",
              "    }\n",
              "</style>\n",
              "<table border=\"1\" class=\"dataframe\">\n",
              "  <thead>\n",
              "    <tr style=\"text-align: right;\">\n",
              "      <th></th>\n",
              "      <th>PassengerId</th>\n",
              "      <th>Pclass</th>\n",
              "      <th>Name</th>\n",
              "      <th>Sex</th>\n",
              "      <th>Age</th>\n",
              "      <th>SibSp</th>\n",
              "      <th>Parch</th>\n",
              "      <th>Ticket</th>\n",
              "      <th>Fare</th>\n",
              "      <th>Cabin</th>\n",
              "      <th>Embarked</th>\n",
              "    </tr>\n",
              "  </thead>\n",
              "  <tbody>\n",
              "    <tr>\n",
              "      <th>0</th>\n",
              "      <td>1</td>\n",
              "      <td>3</td>\n",
              "      <td>Braund, Mr. Owen Harris</td>\n",
              "      <td>male</td>\n",
              "      <td>22.0</td>\n",
              "      <td>1</td>\n",
              "      <td>0</td>\n",
              "      <td>A/5 21171</td>\n",
              "      <td>7.2500</td>\n",
              "      <td>NaN</td>\n",
              "      <td>S</td>\n",
              "    </tr>\n",
              "    <tr>\n",
              "      <th>1</th>\n",
              "      <td>2</td>\n",
              "      <td>1</td>\n",
              "      <td>Cumings, Mrs. John Bradley (Florence Briggs Th...</td>\n",
              "      <td>female</td>\n",
              "      <td>38.0</td>\n",
              "      <td>1</td>\n",
              "      <td>0</td>\n",
              "      <td>PC 17599</td>\n",
              "      <td>71.2833</td>\n",
              "      <td>C85</td>\n",
              "      <td>C</td>\n",
              "    </tr>\n",
              "    <tr>\n",
              "      <th>2</th>\n",
              "      <td>3</td>\n",
              "      <td>3</td>\n",
              "      <td>Heikkinen, Miss. Laina</td>\n",
              "      <td>female</td>\n",
              "      <td>26.0</td>\n",
              "      <td>0</td>\n",
              "      <td>0</td>\n",
              "      <td>STON/O2. 3101282</td>\n",
              "      <td>7.9250</td>\n",
              "      <td>NaN</td>\n",
              "      <td>S</td>\n",
              "    </tr>\n",
              "    <tr>\n",
              "      <th>3</th>\n",
              "      <td>4</td>\n",
              "      <td>1</td>\n",
              "      <td>Futrelle, Mrs. Jacques Heath (Lily May Peel)</td>\n",
              "      <td>female</td>\n",
              "      <td>35.0</td>\n",
              "      <td>1</td>\n",
              "      <td>0</td>\n",
              "      <td>113803</td>\n",
              "      <td>53.1000</td>\n",
              "      <td>C123</td>\n",
              "      <td>S</td>\n",
              "    </tr>\n",
              "    <tr>\n",
              "      <th>4</th>\n",
              "      <td>5</td>\n",
              "      <td>3</td>\n",
              "      <td>Allen, Mr. William Henry</td>\n",
              "      <td>male</td>\n",
              "      <td>35.0</td>\n",
              "      <td>0</td>\n",
              "      <td>0</td>\n",
              "      <td>373450</td>\n",
              "      <td>8.0500</td>\n",
              "      <td>NaN</td>\n",
              "      <td>S</td>\n",
              "    </tr>\n",
              "  </tbody>\n",
              "</table>\n",
              "</div>"
            ],
            "text/plain": [
              "   PassengerId  Pclass  ... Cabin Embarked\n",
              "0            1       3  ...   NaN        S\n",
              "1            2       1  ...   C85        C\n",
              "2            3       3  ...   NaN        S\n",
              "3            4       1  ...  C123        S\n",
              "4            5       3  ...   NaN        S\n",
              "\n",
              "[5 rows x 11 columns]"
            ]
          },
          "metadata": {},
          "execution_count": 2
        }
      ]
    },
    {
      "cell_type": "code",
      "metadata": {
        "colab": {
          "base_uri": "https://localhost:8080/",
          "height": 204
        },
        "id": "vF7-HcsorZzj",
        "outputId": "f4a39ed7-3ba0-4ac2-8cea-0f45a28da023"
      },
      "source": [
        "df_test = pd.read_csv(\"test.csv\")\n",
        "df_test.head()"
      ],
      "execution_count": 3,
      "outputs": [
        {
          "output_type": "execute_result",
          "data": {
            "text/html": [
              "<div>\n",
              "<style scoped>\n",
              "    .dataframe tbody tr th:only-of-type {\n",
              "        vertical-align: middle;\n",
              "    }\n",
              "\n",
              "    .dataframe tbody tr th {\n",
              "        vertical-align: top;\n",
              "    }\n",
              "\n",
              "    .dataframe thead th {\n",
              "        text-align: right;\n",
              "    }\n",
              "</style>\n",
              "<table border=\"1\" class=\"dataframe\">\n",
              "  <thead>\n",
              "    <tr style=\"text-align: right;\">\n",
              "      <th></th>\n",
              "      <th>PassengerId</th>\n",
              "      <th>Pclass</th>\n",
              "      <th>Name</th>\n",
              "      <th>Sex</th>\n",
              "      <th>Age</th>\n",
              "      <th>SibSp</th>\n",
              "      <th>Parch</th>\n",
              "      <th>Ticket</th>\n",
              "      <th>Fare</th>\n",
              "      <th>Cabin</th>\n",
              "      <th>Embarked</th>\n",
              "    </tr>\n",
              "  </thead>\n",
              "  <tbody>\n",
              "    <tr>\n",
              "      <th>0</th>\n",
              "      <td>892</td>\n",
              "      <td>3</td>\n",
              "      <td>Kelly, Mr. James</td>\n",
              "      <td>male</td>\n",
              "      <td>34.5</td>\n",
              "      <td>0</td>\n",
              "      <td>0</td>\n",
              "      <td>330911</td>\n",
              "      <td>7.8292</td>\n",
              "      <td>NaN</td>\n",
              "      <td>Q</td>\n",
              "    </tr>\n",
              "    <tr>\n",
              "      <th>1</th>\n",
              "      <td>893</td>\n",
              "      <td>3</td>\n",
              "      <td>Wilkes, Mrs. James (Ellen Needs)</td>\n",
              "      <td>female</td>\n",
              "      <td>47.0</td>\n",
              "      <td>1</td>\n",
              "      <td>0</td>\n",
              "      <td>363272</td>\n",
              "      <td>7.0000</td>\n",
              "      <td>NaN</td>\n",
              "      <td>S</td>\n",
              "    </tr>\n",
              "    <tr>\n",
              "      <th>2</th>\n",
              "      <td>894</td>\n",
              "      <td>2</td>\n",
              "      <td>Myles, Mr. Thomas Francis</td>\n",
              "      <td>male</td>\n",
              "      <td>62.0</td>\n",
              "      <td>0</td>\n",
              "      <td>0</td>\n",
              "      <td>240276</td>\n",
              "      <td>9.6875</td>\n",
              "      <td>NaN</td>\n",
              "      <td>Q</td>\n",
              "    </tr>\n",
              "    <tr>\n",
              "      <th>3</th>\n",
              "      <td>895</td>\n",
              "      <td>3</td>\n",
              "      <td>Wirz, Mr. Albert</td>\n",
              "      <td>male</td>\n",
              "      <td>27.0</td>\n",
              "      <td>0</td>\n",
              "      <td>0</td>\n",
              "      <td>315154</td>\n",
              "      <td>8.6625</td>\n",
              "      <td>NaN</td>\n",
              "      <td>S</td>\n",
              "    </tr>\n",
              "    <tr>\n",
              "      <th>4</th>\n",
              "      <td>896</td>\n",
              "      <td>3</td>\n",
              "      <td>Hirvonen, Mrs. Alexander (Helga E Lindqvist)</td>\n",
              "      <td>female</td>\n",
              "      <td>22.0</td>\n",
              "      <td>1</td>\n",
              "      <td>1</td>\n",
              "      <td>3101298</td>\n",
              "      <td>12.2875</td>\n",
              "      <td>NaN</td>\n",
              "      <td>S</td>\n",
              "    </tr>\n",
              "  </tbody>\n",
              "</table>\n",
              "</div>"
            ],
            "text/plain": [
              "   PassengerId  Pclass  ... Cabin Embarked\n",
              "0          892       3  ...   NaN        Q\n",
              "1          893       3  ...   NaN        S\n",
              "2          894       2  ...   NaN        Q\n",
              "3          895       3  ...   NaN        S\n",
              "4          896       3  ...   NaN        S\n",
              "\n",
              "[5 rows x 11 columns]"
            ]
          },
          "metadata": {},
          "execution_count": 3
        }
      ]
    },
    {
      "cell_type": "code",
      "metadata": {
        "id": "DiLLm5CfPetV"
      },
      "source": [
        "# удалим признаки PassengerId, Name, Ticket и Cabin из данных\n",
        "df.drop(['PassengerId', 'Name', 'Ticket', 'Cabin'], axis=1, inplace=True)\n",
        "\n",
        "# заполним пропуски в признаке Age обучающей выборки медианным значением\n",
        "df['Age'].fillna(df['Age'].median(), inplace=True)\n",
        "\n",
        "#заполним пропуски в признаке Embarked обучающей выборки самыми частыми значениями этого признака\n",
        "df['Embarked'].fillna(df['Embarked'].value_counts().idxmax(), inplace=True)\n",
        "\n",
        "#заменим категориальные признаки, используя One-Hot-Encoding\n",
        "categorical = ['Pclass', 'Sex', 'SibSp', 'Parch', 'Embarked']\n",
        "df = pd.concat([df, pd.get_dummies(df[categorical], columns=categorical, drop_first=True)],axis=1)\n",
        "\n",
        "df.drop(categorical, axis=1, inplace=True)"
      ],
      "execution_count": 4,
      "outputs": []
    },
    {
      "cell_type": "code",
      "metadata": {
        "id": "wdiCsMyMPeta",
        "scrolled": true,
        "colab": {
          "base_uri": "https://localhost:8080/",
          "height": 204
        },
        "outputId": "5ce837fa-8073-471d-bfc9-9f75d476ff05"
      },
      "source": [
        "df.head()"
      ],
      "execution_count": 5,
      "outputs": [
        {
          "output_type": "execute_result",
          "data": {
            "text/html": [
              "<div>\n",
              "<style scoped>\n",
              "    .dataframe tbody tr th:only-of-type {\n",
              "        vertical-align: middle;\n",
              "    }\n",
              "\n",
              "    .dataframe tbody tr th {\n",
              "        vertical-align: top;\n",
              "    }\n",
              "\n",
              "    .dataframe thead th {\n",
              "        text-align: right;\n",
              "    }\n",
              "</style>\n",
              "<table border=\"1\" class=\"dataframe\">\n",
              "  <thead>\n",
              "    <tr style=\"text-align: right;\">\n",
              "      <th></th>\n",
              "      <th>Age</th>\n",
              "      <th>Fare</th>\n",
              "      <th>Pclass_2</th>\n",
              "      <th>Pclass_3</th>\n",
              "      <th>Sex_male</th>\n",
              "      <th>SibSp_1</th>\n",
              "      <th>SibSp_2</th>\n",
              "      <th>SibSp_3</th>\n",
              "      <th>SibSp_4</th>\n",
              "      <th>SibSp_5</th>\n",
              "      <th>SibSp_8</th>\n",
              "      <th>Parch_1</th>\n",
              "      <th>Parch_2</th>\n",
              "      <th>Parch_3</th>\n",
              "      <th>Parch_4</th>\n",
              "      <th>Parch_5</th>\n",
              "      <th>Parch_6</th>\n",
              "      <th>Embarked_Q</th>\n",
              "      <th>Embarked_S</th>\n",
              "    </tr>\n",
              "  </thead>\n",
              "  <tbody>\n",
              "    <tr>\n",
              "      <th>0</th>\n",
              "      <td>22.0</td>\n",
              "      <td>7.2500</td>\n",
              "      <td>0</td>\n",
              "      <td>1</td>\n",
              "      <td>1</td>\n",
              "      <td>1</td>\n",
              "      <td>0</td>\n",
              "      <td>0</td>\n",
              "      <td>0</td>\n",
              "      <td>0</td>\n",
              "      <td>0</td>\n",
              "      <td>0</td>\n",
              "      <td>0</td>\n",
              "      <td>0</td>\n",
              "      <td>0</td>\n",
              "      <td>0</td>\n",
              "      <td>0</td>\n",
              "      <td>0</td>\n",
              "      <td>1</td>\n",
              "    </tr>\n",
              "    <tr>\n",
              "      <th>1</th>\n",
              "      <td>38.0</td>\n",
              "      <td>71.2833</td>\n",
              "      <td>0</td>\n",
              "      <td>0</td>\n",
              "      <td>0</td>\n",
              "      <td>1</td>\n",
              "      <td>0</td>\n",
              "      <td>0</td>\n",
              "      <td>0</td>\n",
              "      <td>0</td>\n",
              "      <td>0</td>\n",
              "      <td>0</td>\n",
              "      <td>0</td>\n",
              "      <td>0</td>\n",
              "      <td>0</td>\n",
              "      <td>0</td>\n",
              "      <td>0</td>\n",
              "      <td>0</td>\n",
              "      <td>0</td>\n",
              "    </tr>\n",
              "    <tr>\n",
              "      <th>2</th>\n",
              "      <td>26.0</td>\n",
              "      <td>7.9250</td>\n",
              "      <td>0</td>\n",
              "      <td>1</td>\n",
              "      <td>0</td>\n",
              "      <td>0</td>\n",
              "      <td>0</td>\n",
              "      <td>0</td>\n",
              "      <td>0</td>\n",
              "      <td>0</td>\n",
              "      <td>0</td>\n",
              "      <td>0</td>\n",
              "      <td>0</td>\n",
              "      <td>0</td>\n",
              "      <td>0</td>\n",
              "      <td>0</td>\n",
              "      <td>0</td>\n",
              "      <td>0</td>\n",
              "      <td>1</td>\n",
              "    </tr>\n",
              "    <tr>\n",
              "      <th>3</th>\n",
              "      <td>35.0</td>\n",
              "      <td>53.1000</td>\n",
              "      <td>0</td>\n",
              "      <td>0</td>\n",
              "      <td>0</td>\n",
              "      <td>1</td>\n",
              "      <td>0</td>\n",
              "      <td>0</td>\n",
              "      <td>0</td>\n",
              "      <td>0</td>\n",
              "      <td>0</td>\n",
              "      <td>0</td>\n",
              "      <td>0</td>\n",
              "      <td>0</td>\n",
              "      <td>0</td>\n",
              "      <td>0</td>\n",
              "      <td>0</td>\n",
              "      <td>0</td>\n",
              "      <td>1</td>\n",
              "    </tr>\n",
              "    <tr>\n",
              "      <th>4</th>\n",
              "      <td>35.0</td>\n",
              "      <td>8.0500</td>\n",
              "      <td>0</td>\n",
              "      <td>1</td>\n",
              "      <td>1</td>\n",
              "      <td>0</td>\n",
              "      <td>0</td>\n",
              "      <td>0</td>\n",
              "      <td>0</td>\n",
              "      <td>0</td>\n",
              "      <td>0</td>\n",
              "      <td>0</td>\n",
              "      <td>0</td>\n",
              "      <td>0</td>\n",
              "      <td>0</td>\n",
              "      <td>0</td>\n",
              "      <td>0</td>\n",
              "      <td>0</td>\n",
              "      <td>1</td>\n",
              "    </tr>\n",
              "  </tbody>\n",
              "</table>\n",
              "</div>"
            ],
            "text/plain": [
              "    Age     Fare  Pclass_2  Pclass_3  ...  Parch_5  Parch_6  Embarked_Q  Embarked_S\n",
              "0  22.0   7.2500         0         1  ...        0        0           0           1\n",
              "1  38.0  71.2833         0         0  ...        0        0           0           0\n",
              "2  26.0   7.9250         0         1  ...        0        0           0           1\n",
              "3  35.0  53.1000         0         0  ...        0        0           0           1\n",
              "4  35.0   8.0500         0         1  ...        0        0           0           1\n",
              "\n",
              "[5 rows x 19 columns]"
            ]
          },
          "metadata": {},
          "execution_count": 5
        }
      ]
    },
    {
      "cell_type": "markdown",
      "metadata": {
        "id": "gc6pS7ysPetf"
      },
      "source": [
        "## Разделение на train, test"
      ]
    },
    {
      "cell_type": "code",
      "metadata": {
        "id": "NFgjTbFaPetg"
      },
      "source": [
        "from sklearn.model_selection import train_test_split\n",
        "\n",
        "X_train, X_test, y_train, y_test = train_test_split(df, y, test_size = 0.1, random_state = 13)"
      ],
      "execution_count": 6,
      "outputs": []
    },
    {
      "cell_type": "code",
      "metadata": {
        "id": "f5UPuk6ofwKj"
      },
      "source": [
        "X_train['trg'] = y_train"
      ],
      "execution_count": null,
      "outputs": []
    },
    {
      "cell_type": "code",
      "metadata": {
        "id": "Pi2vrBpTPetk",
        "colab": {
          "base_uri": "https://localhost:8080/"
        },
        "outputId": "5c32219c-2476-44d7-edad-bd1e99e4eec8"
      },
      "source": [
        "print ('Train: ' + str(len(X_train)))\n",
        "print ('Test: ' + str(len(X_test)))"
      ],
      "execution_count": 8,
      "outputs": [
        {
          "output_type": "stream",
          "name": "stdout",
          "text": [
            "Train: 801\n",
            "Test: 90\n"
          ]
        }
      ]
    },
    {
      "cell_type": "code",
      "metadata": {
        "colab": {
          "base_uri": "https://localhost:8080/",
          "height": 204
        },
        "id": "jmKsOsSuf0am",
        "outputId": "2883f98b-10cf-48a7-9038-85adc0d5c18e"
      },
      "source": [
        "X_train.head()"
      ],
      "execution_count": 9,
      "outputs": [
        {
          "output_type": "execute_result",
          "data": {
            "text/html": [
              "<div>\n",
              "<style scoped>\n",
              "    .dataframe tbody tr th:only-of-type {\n",
              "        vertical-align: middle;\n",
              "    }\n",
              "\n",
              "    .dataframe tbody tr th {\n",
              "        vertical-align: top;\n",
              "    }\n",
              "\n",
              "    .dataframe thead th {\n",
              "        text-align: right;\n",
              "    }\n",
              "</style>\n",
              "<table border=\"1\" class=\"dataframe\">\n",
              "  <thead>\n",
              "    <tr style=\"text-align: right;\">\n",
              "      <th></th>\n",
              "      <th>Age</th>\n",
              "      <th>Fare</th>\n",
              "      <th>Pclass_2</th>\n",
              "      <th>Pclass_3</th>\n",
              "      <th>Sex_male</th>\n",
              "      <th>SibSp_1</th>\n",
              "      <th>SibSp_2</th>\n",
              "      <th>SibSp_3</th>\n",
              "      <th>SibSp_4</th>\n",
              "      <th>SibSp_5</th>\n",
              "      <th>SibSp_8</th>\n",
              "      <th>Parch_1</th>\n",
              "      <th>Parch_2</th>\n",
              "      <th>Parch_3</th>\n",
              "      <th>Parch_4</th>\n",
              "      <th>Parch_5</th>\n",
              "      <th>Parch_6</th>\n",
              "      <th>Embarked_Q</th>\n",
              "      <th>Embarked_S</th>\n",
              "      <th>trg</th>\n",
              "    </tr>\n",
              "  </thead>\n",
              "  <tbody>\n",
              "    <tr>\n",
              "      <th>299</th>\n",
              "      <td>50.0</td>\n",
              "      <td>247.5208</td>\n",
              "      <td>0</td>\n",
              "      <td>0</td>\n",
              "      <td>0</td>\n",
              "      <td>0</td>\n",
              "      <td>0</td>\n",
              "      <td>0</td>\n",
              "      <td>0</td>\n",
              "      <td>0</td>\n",
              "      <td>0</td>\n",
              "      <td>1</td>\n",
              "      <td>0</td>\n",
              "      <td>0</td>\n",
              "      <td>0</td>\n",
              "      <td>0</td>\n",
              "      <td>0</td>\n",
              "      <td>0</td>\n",
              "      <td>0</td>\n",
              "      <td>1</td>\n",
              "    </tr>\n",
              "    <tr>\n",
              "      <th>647</th>\n",
              "      <td>56.0</td>\n",
              "      <td>35.5000</td>\n",
              "      <td>0</td>\n",
              "      <td>0</td>\n",
              "      <td>1</td>\n",
              "      <td>0</td>\n",
              "      <td>0</td>\n",
              "      <td>0</td>\n",
              "      <td>0</td>\n",
              "      <td>0</td>\n",
              "      <td>0</td>\n",
              "      <td>0</td>\n",
              "      <td>0</td>\n",
              "      <td>0</td>\n",
              "      <td>0</td>\n",
              "      <td>0</td>\n",
              "      <td>0</td>\n",
              "      <td>0</td>\n",
              "      <td>0</td>\n",
              "      <td>1</td>\n",
              "    </tr>\n",
              "    <tr>\n",
              "      <th>476</th>\n",
              "      <td>34.0</td>\n",
              "      <td>21.0000</td>\n",
              "      <td>1</td>\n",
              "      <td>0</td>\n",
              "      <td>1</td>\n",
              "      <td>1</td>\n",
              "      <td>0</td>\n",
              "      <td>0</td>\n",
              "      <td>0</td>\n",
              "      <td>0</td>\n",
              "      <td>0</td>\n",
              "      <td>0</td>\n",
              "      <td>0</td>\n",
              "      <td>0</td>\n",
              "      <td>0</td>\n",
              "      <td>0</td>\n",
              "      <td>0</td>\n",
              "      <td>0</td>\n",
              "      <td>1</td>\n",
              "      <td>0</td>\n",
              "    </tr>\n",
              "    <tr>\n",
              "      <th>390</th>\n",
              "      <td>36.0</td>\n",
              "      <td>120.0000</td>\n",
              "      <td>0</td>\n",
              "      <td>0</td>\n",
              "      <td>1</td>\n",
              "      <td>1</td>\n",
              "      <td>0</td>\n",
              "      <td>0</td>\n",
              "      <td>0</td>\n",
              "      <td>0</td>\n",
              "      <td>0</td>\n",
              "      <td>0</td>\n",
              "      <td>1</td>\n",
              "      <td>0</td>\n",
              "      <td>0</td>\n",
              "      <td>0</td>\n",
              "      <td>0</td>\n",
              "      <td>0</td>\n",
              "      <td>1</td>\n",
              "      <td>1</td>\n",
              "    </tr>\n",
              "    <tr>\n",
              "      <th>473</th>\n",
              "      <td>23.0</td>\n",
              "      <td>13.7917</td>\n",
              "      <td>1</td>\n",
              "      <td>0</td>\n",
              "      <td>0</td>\n",
              "      <td>0</td>\n",
              "      <td>0</td>\n",
              "      <td>0</td>\n",
              "      <td>0</td>\n",
              "      <td>0</td>\n",
              "      <td>0</td>\n",
              "      <td>0</td>\n",
              "      <td>0</td>\n",
              "      <td>0</td>\n",
              "      <td>0</td>\n",
              "      <td>0</td>\n",
              "      <td>0</td>\n",
              "      <td>0</td>\n",
              "      <td>0</td>\n",
              "      <td>1</td>\n",
              "    </tr>\n",
              "  </tbody>\n",
              "</table>\n",
              "</div>"
            ],
            "text/plain": [
              "      Age      Fare  Pclass_2  Pclass_3  ...  Parch_6  Embarked_Q  Embarked_S  trg\n",
              "299  50.0  247.5208         0         0  ...        0           0           0    1\n",
              "647  56.0   35.5000         0         0  ...        0           0           0    1\n",
              "476  34.0   21.0000         1         0  ...        0           0           1    0\n",
              "390  36.0  120.0000         0         0  ...        0           0           1    1\n",
              "473  23.0   13.7917         1         0  ...        0           0           0    1\n",
              "\n",
              "[5 rows x 20 columns]"
            ]
          },
          "metadata": {},
          "execution_count": 9
        }
      ]
    },
    {
      "cell_type": "markdown",
      "metadata": {
        "id": "LAwFQ_ozPetp"
      },
      "source": [
        "## Fit MyDecisionTree  \n",
        "Напишите свою функцию построения дерева.\n",
        "\n",
        "Структуру дерева можно задать, например, словарем следующего вида:  \n",
        "```python\n",
        "{'feature_name': 'Age', # название фичи \n",
        "'threshold': 20, # порог разбиения\n",
        "'left': 0,  # ссылка на левое поддерево, задан доминирующий класс\n",
        "'right': 1} # ссылка на правое поддерево, задан доминирующий класс\n",
        "```"
      ]
    },
    {
      "cell_type": "code",
      "metadata": {
        "id": "b2hZgn-TPetq"
      },
      "source": [
        "def get_target(df):\n",
        "    \"\"\"\n",
        "        Функция ищет доминирующий класс во входном DataFrame\n",
        "        Input - DataFrame\n",
        "        Output - 0 или 1\n",
        "        \n",
        "        Например, в исходных данных 490 нулей и 311 единиц.\n",
        "        Функция должна вернуть 0.\n",
        "    \"\"\"\n",
        "    return  df[:].value_counts().idxmax()\n",
        "   #return df['trg'].value_counts(ascending=False).index[0]\n",
        "\n",
        "\n",
        "def get_entropy(target):\n",
        "    \"\"\"\n",
        "        Функция считает энтропию заданного множества.\n",
        "        Input - таргет (тип - pandas.core.series.Series)\n",
        "        \n",
        "        Output - значение энтропии (тип - float)\n",
        "    \"\"\"\n",
        "      \n",
        "    cnt = len(target) # кол-во элементе в таргете\n",
        "    values = target.value_counts() # кол-во 0 и 1 \n",
        "    if 0 in values:\n",
        "        p0 = values[0] / cnt\n",
        "    else:\n",
        "        p0 = 0\n",
        "        \n",
        "    if 1 in values:\n",
        "        p1 = values[1] / cnt\n",
        "    else:\n",
        "        p1 = 0\n",
        "    \n",
        "    if p0 == 0:\n",
        "        entropy = -(p1 * np.log2(p1))\n",
        "    elif p1 == 0:\n",
        "        entropy = -(p0 * np.log2(p0))\n",
        "    else:\n",
        "        entropy = -(p0 * np.log2(p0) + p1 * np.log2(p1))\n",
        "    \n",
        "    return entropy\n",
        "\n",
        "\n",
        "def feature_separation(df, f_name):\n",
        "    \"\"\"\n",
        "        Функция ищет лучшее разбиение для данной фичи.\n",
        "        Input - df: DataFrame с 2 атрибутами (feature, target), \n",
        "                f_name: название фичи (для которой ищем разбиение)\n",
        "                \n",
        "        Output - прирост энтропии, порог разбиения\n",
        "    \"\"\"\n",
        "    \n",
        "    step = 0.05\n",
        "    separation = []\n",
        "    delta = [] \n",
        "\n",
        "    cnt = len(df[f_name])\n",
        "    prnt_entropy_new = get_entropy(df['trg'])\n",
        "    for s in range(1,20):\n",
        "        sep = df[f_name].quantile(step * s) # выделяем квантиль у фичи - число \n",
        "        separation.append(sep) # список из квантилей\n",
        "        #print(separation)\n",
        "        df_left = df[df[f_name] <= sep] # собираем фичи, значение которых <= sep\n",
        "        df_right = df[df[f_name] > sep] \n",
        "        #print(df[f_name] <= sep)\n",
        "        #print(df_left)\n",
        "        e_left = get_entropy(df_left['trg']) # считаем энтропию у таргета\n",
        "        e_right = get_entropy(df_right['trg'])\n",
        "        #print(df_left['trg'])\n",
        "        #print(e_left) \n",
        "        delta.append((float(len(df_left)) / float(cnt)) * e_left + (float(len(df_right)) / float(cnt)) * e_right) \n",
        "\n",
        "    delta_entropy = (prnt_entropy_new - delta).max() # выбираем макс прирост энтропии\n",
        "\n",
        "    threshold = separation[(prnt_entropy_new - delta).argmax()] # определяем порог разбиения\n",
        "    \n",
        "    return (delta_entropy, threshold)\n",
        "feature_separation(X_train, 'Sex_male')\n",
        "\n",
        "def best_separation(df):\n",
        "    \"\"\"\n",
        "        Функция выбирает фичу для разбиения, которая даст максимальный прирост энтропии.\n",
        "        Input - исходный DataFrame\n",
        "        \n",
        "        Output - словарь следующиего вида\n",
        "        {'feature_name': sep_feature, 'threshold': threshold, 'groups': groups}\n",
        "        \n",
        "            sep_feature - название фичи для разбиения (тип - String)\n",
        "            threshold - порог разбиения (тип - float)\n",
        "            groups - tuple из двух поддеревьев (df_left, df_right)\n",
        "    \"\"\"\n",
        "    \n",
        "    sep_feature, threshold, groups = None, None, df\n",
        "    all_features = [c for c in df.columns.tolist() if c != 'trg']\n",
        "    max_entropy = 0. # макс прирост энтропии\n",
        "    prnt_entropy = get_entropy(df['trg'])\n",
        "\n",
        "    for f in all_features:\n",
        "        f_entropy = feature_separation(df[[f,'trg']], f)\n",
        "        left = df[df[f] <= f_entropy[1]]\n",
        "        right = df[df[f] > f_entropy[1]]        \n",
        "        groups = (left, right)\n",
        "\n",
        "        if f_entropy[0] > max_entropy:\n",
        "            max_entropy = f_entropy[0]\n",
        "            sep_feature = f\n",
        "            threshold = f_entropy[1]\n",
        "            \n",
        "            left = df[df[sep_feature] <= threshold]\n",
        "            right = df[df[sep_feature] > threshold]\n",
        "            \n",
        "            b_groups = (left, right)\n",
        "            #print (len(b_groups[0]), len(b_groups[1]))        \n",
        "    \n",
        "    return {'feature_name': sep_feature, 'threshold': threshold, 'groups': b_groups}\n",
        "\n",
        "def split(node, max_depth, depth):\n",
        "    \"\"\"\n",
        "        Рекурсивная функция для построения дерева\n",
        "        Input - node: корень дерева\n",
        "                max_depth: максимальная глубина дерева\n",
        "                depth: текущая глубина дерева\n",
        "    \"\"\"\n",
        "    \n",
        "    df_left, df_right = node['groups']\n",
        "    sep_feature = node['feature_name']\n",
        "    del(node['groups'])\n",
        "    \n",
        "    # проверяем, есть ли разбиение\n",
        "    if len(df_left) == 0 or len(df_right) == 0:\n",
        "        node['left'] = node['right'] = get_target(df_left.append(df_right))\n",
        "        return\n",
        "    \n",
        "    # проверяем максимальную глубину\n",
        "    if depth >= max_depth:\n",
        "        node['left'], node['right'] = get_target(df_left), get_target(df_right)\n",
        "        return\n",
        "    \n",
        "    else:\n",
        "        node['left'] = best_separation(df_left)\n",
        "        split(node['left'], max_depth, depth + 1)\n",
        "\n",
        "        node['right'] = best_separation(df_right)\n",
        "        split(node['right'], max_depth, depth + 1)\n",
        "        \n",
        "        \n",
        "def fit_my_tree(df, max_depth):\n",
        "    \"\"\"\n",
        "        Функция для обучения дерева\n",
        "        Input - df: DataFrame\n",
        "                max_depth: максимальная глубина дерева\n",
        "    \"\"\"    \n",
        "    root = best_separation(df)\n",
        "    split(root, max_depth, 1)\n",
        "\n",
        "    return root"
      ],
      "execution_count": null,
      "outputs": []
    },
    {
      "cell_type": "code",
      "metadata": {
        "id": "JD7erX5NPetu"
      },
      "source": [
        "my_tree = fit_my_tree(X_train, 3)"
      ],
      "execution_count": null,
      "outputs": []
    },
    {
      "cell_type": "code",
      "metadata": {
        "id": "yJZ3mUxmOLVw"
      },
      "source": [
        "my_tree"
      ],
      "execution_count": null,
      "outputs": []
    },
    {
      "cell_type": "markdown",
      "metadata": {
        "id": "StlWI8UQPet1"
      },
      "source": [
        "## Predict MyDecisionTree  "
      ]
    },
    {
      "cell_type": "code",
      "metadata": {
        "id": "amdgbKiNPet1"
      },
      "source": [
        "def predict_raw(row, tree):\n",
        "    \"\"\"\n",
        "        Функция предсказывает класс для 1 строки DataFrame.\n",
        "        \n",
        "        Input - row: строка DataFrame\n",
        "                tree: обученное дерево на предыдущем шаге (тип - dict)\n",
        "    \"\"\"    \n",
        "    if row[tree['feature_name']] <= tree['threshold']:\n",
        "        if type(tree['left']) == dict:\n",
        "            return predict_raw(row, tree['left'])\n",
        "        else:\n",
        "            return tree['left']\n",
        "    else:\n",
        "        if type(tree['right']) == dict:\n",
        "            return predict_raw(row, tree['right'])\n",
        "        else:\n",
        "            return tree['right']\n",
        "    \n",
        "    \n",
        "def predict_my_tree(df, tree):\n",
        "    \"\"\"\n",
        "        Функция предсказывает класс для исходного DataFrame.\n",
        "        \n",
        "        Input - df: исходный DataFrame\n",
        "                tree: обученное дерево на предыдущем шаге (тип - dict)\n",
        "                \n",
        "        Output - предсказанные классы (тип - pandas.core.series.Series)\n",
        "    \"\"\"      \n",
        "    predict = pd.Series()   \n",
        "    for index, row in df.iterrows():\n",
        "        prediction = pd.Series(predict_raw(row, my_tree), [index])\n",
        "        predict = predict.append(prediction)    \n",
        "        \n",
        "    return predict"
      ],
      "execution_count": null,
      "outputs": []
    },
    {
      "cell_type": "code",
      "metadata": {
        "id": "RTvqVMq5Pet4"
      },
      "source": [
        "my_pred_test = predict_my_tree(X_test, my_tree)\n",
        "my_pred_train = predict_my_tree(X_train, my_tree)"
      ],
      "execution_count": null,
      "outputs": []
    },
    {
      "cell_type": "markdown",
      "metadata": {
        "id": "q7ywEJyuPet8"
      },
      "source": [
        "## Train with sklearn \n",
        "\n",
        "Обучите дерево, используя библиотеку sklearn. Задайте те же параметры, что и при обучении своего дерева.  \n",
        "\n",
        "Сравните метрики и попробуйте улучшить ваше дерево."
      ]
    },
    {
      "cell_type": "code",
      "metadata": {
        "id": "vHf0AvUaPet9"
      },
      "source": [
        "from sklearn.tree import DecisionTreeClassifier\n",
        "from sklearn import tree"
      ],
      "execution_count": null,
      "outputs": []
    },
    {
      "cell_type": "code",
      "metadata": {
        "id": "DRDjiZtmPeuA"
      },
      "source": [
        "clf_tree = DecisionTreeClassifier(criterion='entropy',max_depth=3, random_state=0)\n",
        "\n",
        "# обучаем дерево\n",
        "clf_tree.fit(X_train.drop(['trg'], axis = 1), y_train)\n",
        "\n",
        "# предсказание на тестовой и обучающей выборках\n",
        "y_pred_test = clf_tree.predict(X_test)\n",
        "y_pred_train = clf_tree.predict(X_train.drop(['trg'], axis = 1))"
      ],
      "execution_count": null,
      "outputs": []
    },
    {
      "cell_type": "code",
      "metadata": {
        "id": "sDDlAapiUcyZ",
        "colab": {
          "base_uri": "https://localhost:8080/",
          "height": 983
        },
        "outputId": "8ca206f9-a009-4381-fa51-d02c951acb5b"
      },
      "source": [
        "#Отрисовать дерево можно вот так:   \n",
        "fig, axes = plt.subplots(nrows = 1,ncols = 1,figsize = (4,4), dpi=300)\n",
        "tree.plot_tree(clf_tree, feature_names = X_train.columns);"
      ],
      "execution_count": null,
      "outputs": [
        {
          "output_type": "display_data",
          "data": {
            "image/png": "[encoded data removed]",
            "text/plain": [
              "<Figure size 1200x1200 with 1 Axes>"
            ]
          },
          "metadata": {
            "tags": [],
            "needs_background": "light"
          }
        }
      ]
    },
    {
      "cell_type": "code",
      "metadata": {
        "colab": {
          "base_uri": "https://localhost:8080/",
          "height": 538
        },
        "id": "djYtFnWIoU6r",
        "outputId": "dfa86f76-3ba8-4e0e-a39f-6fe060eeec16"
      },
      "source": [
        "# или так\n",
        "from sklearn.tree import export_graphviz\n",
        "export_graphviz(clf_tree, out_file=\"train.csv\", feature_names=X_train.drop(['trg'], axis = 1).columns, impurity=True, filled=True, special_characters=True)\n",
        "###visualize the .dot file. Need to install graphviz seperately at first \n",
        "import graphviz\n",
        "with open(\"train.csv\") as f:\n",
        "    dot_graph=f.read()\n",
        "graphviz.Source(dot_graph)"
      ],
      "execution_count": null,
      "outputs": [
        {
          "output_type": "execute_result",
          "data": {
            "text/plain": [
              "<graphviz.files.Source at 0x7fba10187ba8>"
            ],
            "image/svg+xml": "<?xml version=\"1.0\" encoding=\"UTF-8\" standalone=\"no\"?>\n<!DOCTYPE svg PUBLIC \"-//W3C//DTD SVG 1.1//EN\"\n \"http://www.w3.org/Graphics/SVG/1.1/DTD/svg11.dtd\">\n<!-- Generated by graphviz version 2.40.1 (20161225.0304)\n -->\n<!-- Title: Tree Pages: 1 -->\n<svg width=\"1007pt\" height=\"373pt\"\n viewBox=\"0.00 0.00 1007.00 373.00\" xmlns=\"http://www.w3.org/2000/svg\" xmlns:xlink=\"http://www.w3.org/1999/xlink\">\n<g id=\"graph0\" class=\"graph\" transform=\"scale(1 1) rotate(0) translate(4 369)\">\n<title>Tree</title>\n<polygon fill=\"#ffffff\" stroke=\"transparent\" points=\"-4,4 -4,-369 1003,-369 1003,4 -4,4\"/>\n<!-- 0 -->\n<g id=\"node1\" class=\"node\">\n<title>0</title>\n<polygon fill=\"#f6d1b7\" stroke=\"#000000\" points=\"552.5,-365 428.5,-365 428.5,-297 552.5,-297 552.5,-365\"/>\n<text text-anchor=\"start\" x=\"445\" y=\"-349.8\" font-family=\"Times,serif\" font-size=\"14.00\" fill=\"#000000\">Sex_male ≤ 0.5</text>\n<text text-anchor=\"start\" x=\"443.5\" y=\"-334.8\" font-family=\"Times,serif\" font-size=\"14.00\" fill=\"#000000\">entropy = 0.964</text>\n<text text-anchor=\"start\" x=\"448.5\" y=\"-319.8\" font-family=\"Times,serif\" font-size=\"14.00\" fill=\"#000000\">samples = 801</text>\n<text text-anchor=\"start\" x=\"436.5\" y=\"-304.8\" font-family=\"Times,serif\" font-size=\"14.00\" fill=\"#000000\">value = [490, 311]</text>\n</g>\n<!-- 1 -->\n<g id=\"node2\" class=\"node\">\n<title>1</title>\n<polygon fill=\"#7dbfee\" stroke=\"#000000\" points=\"421,-261 304,-261 304,-193 421,-193 421,-261\"/>\n<text text-anchor=\"start\" x=\"320.5\" y=\"-245.8\" font-family=\"Times,serif\" font-size=\"14.00\" fill=\"#000000\">Pclass_3 ≤ 0.5</text>\n<text text-anchor=\"start\" x=\"315.5\" y=\"-230.8\" font-family=\"Times,serif\" font-size=\"14.00\" fill=\"#000000\">entropy = 0.821</text>\n<text text-anchor=\"start\" x=\"320.5\" y=\"-215.8\" font-family=\"Times,serif\" font-size=\"14.00\" fill=\"#000000\">samples = 281</text>\n<text text-anchor=\"start\" x=\"312\" y=\"-200.8\" font-family=\"Times,serif\" font-size=\"14.00\" fill=\"#000000\">value = [72, 209]</text>\n</g>\n<!-- 0&#45;&gt;1 -->\n<g id=\"edge1\" class=\"edge\">\n<title>0&#45;&gt;1</title>\n<path fill=\"none\" stroke=\"#000000\" d=\"M448.588,-296.9465C436.985,-287.519 424.2779,-277.1946 412.2741,-267.4415\"/>\n<polygon fill=\"#000000\" stroke=\"#000000\" points=\"414.4744,-264.7196 404.5061,-261.13 410.0602,-270.1524 414.4744,-264.7196\"/>\n<text text-anchor=\"middle\" x=\"407.0786\" y=\"-282.2973\" font-family=\"Times,serif\" font-size=\"14.00\" fill=\"#000000\">True</text>\n</g>\n<!-- 8 -->\n<g id=\"node9\" class=\"node\">\n<title>8</title>\n<polygon fill=\"#eba069\" stroke=\"#000000\" points=\"683,-261 558,-261 558,-193 683,-193 683,-261\"/>\n<text text-anchor=\"start\" x=\"579.5\" y=\"-245.8\" font-family=\"Times,serif\" font-size=\"14.00\" fill=\"#000000\">Fare ≤ 26.269</text>\n<text text-anchor=\"start\" x=\"573.5\" y=\"-230.8\" font-family=\"Times,serif\" font-size=\"14.00\" fill=\"#000000\">entropy = 0.714</text>\n<text text-anchor=\"start\" x=\"578.5\" y=\"-215.8\" font-family=\"Times,serif\" font-size=\"14.00\" fill=\"#000000\">samples = 520</text>\n<text text-anchor=\"start\" x=\"566\" y=\"-200.8\" font-family=\"Times,serif\" font-size=\"14.00\" fill=\"#000000\">value = [418, 102]</text>\n</g>\n<!-- 0&#45;&gt;8 -->\n<g id=\"edge8\" class=\"edge\">\n<title>0&#45;&gt;8</title>\n<path fill=\"none\" stroke=\"#000000\" d=\"M533.0669,-296.9465C544.8512,-287.519 557.7568,-277.1946 569.9481,-267.4415\"/>\n<polygon fill=\"#000000\" stroke=\"#000000\" points=\"572.2152,-270.11 577.8375,-261.13 567.8423,-264.6439 572.2152,-270.11\"/>\n<text text-anchor=\"middle\" x=\"575.0767\" y=\"-282.2771\" font-family=\"Times,serif\" font-size=\"14.00\" fill=\"#000000\">False</text>\n</g>\n<!-- 2 -->\n<g id=\"node3\" class=\"node\">\n<title>2</title>\n<polygon fill=\"#45a3e7\" stroke=\"#000000\" points=\"231.5,-157 121.5,-157 121.5,-89 231.5,-89 231.5,-157\"/>\n<text text-anchor=\"start\" x=\"135.5\" y=\"-141.8\" font-family=\"Times,serif\" font-size=\"14.00\" fill=\"#000000\">Fare ≤ 28.856</text>\n<text text-anchor=\"start\" x=\"129.5\" y=\"-126.8\" font-family=\"Times,serif\" font-size=\"14.00\" fill=\"#000000\">entropy = 0.324</text>\n<text text-anchor=\"start\" x=\"134.5\" y=\"-111.8\" font-family=\"Times,serif\" font-size=\"14.00\" fill=\"#000000\">samples = 152</text>\n<text text-anchor=\"start\" x=\"129.5\" y=\"-96.8\" font-family=\"Times,serif\" font-size=\"14.00\" fill=\"#000000\">value = [9, 143]</text>\n</g>\n<!-- 1&#45;&gt;2 -->\n<g id=\"edge2\" class=\"edge\">\n<title>1&#45;&gt;2</title>\n<path fill=\"none\" stroke=\"#000000\" d=\"M303.9037,-194.2365C283.7752,-182.9818 261.1436,-170.3276 240.6009,-158.8414\"/>\n<polygon fill=\"#000000\" stroke=\"#000000\" points=\"242.0695,-155.6526 231.6331,-153.8271 238.6533,-161.7624 242.0695,-155.6526\"/>\n</g>\n<!-- 5 -->\n<g id=\"node6\" class=\"node\">\n<title>5</title>\n<polygon fill=\"#f6fbfe\" stroke=\"#000000\" points=\"417.5,-157 307.5,-157 307.5,-89 417.5,-89 417.5,-157\"/>\n<text text-anchor=\"start\" x=\"321.5\" y=\"-141.8\" font-family=\"Times,serif\" font-size=\"14.00\" fill=\"#000000\">Fare ≤ 24.808</text>\n<text text-anchor=\"start\" x=\"323\" y=\"-126.8\" font-family=\"Times,serif\" font-size=\"14.00\" fill=\"#000000\">entropy = 1.0</text>\n<text text-anchor=\"start\" x=\"320.5\" y=\"-111.8\" font-family=\"Times,serif\" font-size=\"14.00\" fill=\"#000000\">samples = 129</text>\n<text text-anchor=\"start\" x=\"315.5\" y=\"-96.8\" font-family=\"Times,serif\" font-size=\"14.00\" fill=\"#000000\">value = [63, 66]</text>\n</g>\n<!-- 1&#45;&gt;5 -->\n<g id=\"edge5\" class=\"edge\">\n<title>1&#45;&gt;5</title>\n<path fill=\"none\" stroke=\"#000000\" d=\"M362.5,-192.9465C362.5,-184.776 362.5,-175.9318 362.5,-167.3697\"/>\n<polygon fill=\"#000000\" stroke=\"#000000\" points=\"366.0001,-167.13 362.5,-157.13 359.0001,-167.13 366.0001,-167.13\"/>\n</g>\n<!-- 3 -->\n<g id=\"node4\" class=\"node\">\n<title>3</title>\n<polygon fill=\"#53aae8\" stroke=\"#000000\" points=\"103,-53 0,-53 0,0 103,0 103,-53\"/>\n<text text-anchor=\"start\" x=\"8\" y=\"-37.8\" font-family=\"Times,serif\" font-size=\"14.00\" fill=\"#000000\">entropy = 0.52</text>\n<text text-anchor=\"start\" x=\"13.5\" y=\"-22.8\" font-family=\"Times,serif\" font-size=\"14.00\" fill=\"#000000\">samples = 60</text>\n<text text-anchor=\"start\" x=\"8.5\" y=\"-7.8\" font-family=\"Times,serif\" font-size=\"14.00\" fill=\"#000000\">value = [7, 53]</text>\n</g>\n<!-- 2&#45;&gt;3 -->\n<g id=\"edge3\" class=\"edge\">\n<title>2&#45;&gt;3</title>\n<path fill=\"none\" stroke=\"#000000\" d=\"M132.4297,-88.9777C119.9752,-79.3629 106.4485,-68.9203 94.0833,-59.3743\"/>\n<polygon fill=\"#000000\" stroke=\"#000000\" points=\"96.2028,-56.5889 86.1483,-53.2485 91.9251,-62.1299 96.2028,-56.5889\"/>\n</g>\n<!-- 4 -->\n<g id=\"node5\" class=\"node\">\n<title>4</title>\n<polygon fill=\"#3d9fe6\" stroke=\"#000000\" points=\"231.5,-53 121.5,-53 121.5,0 231.5,0 231.5,-53\"/>\n<text text-anchor=\"start\" x=\"129.5\" y=\"-37.8\" font-family=\"Times,serif\" font-size=\"14.00\" fill=\"#000000\">entropy = 0.151</text>\n<text text-anchor=\"start\" x=\"138.5\" y=\"-22.8\" font-family=\"Times,serif\" font-size=\"14.00\" fill=\"#000000\">samples = 92</text>\n<text text-anchor=\"start\" x=\"133.5\" y=\"-7.8\" font-family=\"Times,serif\" font-size=\"14.00\" fill=\"#000000\">value = [2, 90]</text>\n</g>\n<!-- 2&#45;&gt;4 -->\n<g id=\"edge4\" class=\"edge\">\n<title>2&#45;&gt;4</title>\n<path fill=\"none\" stroke=\"#000000\" d=\"M176.5,-88.9777C176.5,-80.7364 176.5,-71.887 176.5,-63.5153\"/>\n<polygon fill=\"#000000\" stroke=\"#000000\" points=\"180.0001,-63.2484 176.5,-53.2485 173.0001,-63.2485 180.0001,-63.2484\"/>\n</g>\n<!-- 6 -->\n<g id=\"node7\" class=\"node\">\n<title>6</title>\n<polygon fill=\"#c4e2f7\" stroke=\"#000000\" points=\"359.5,-53 249.5,-53 249.5,0 359.5,0 359.5,-53\"/>\n<text text-anchor=\"start\" x=\"257.5\" y=\"-37.8\" font-family=\"Times,serif\" font-size=\"14.00\" fill=\"#000000\">entropy = 0.978</text>\n<text text-anchor=\"start\" x=\"262.5\" y=\"-22.8\" font-family=\"Times,serif\" font-size=\"14.00\" fill=\"#000000\">samples = 109</text>\n<text text-anchor=\"start\" x=\"257.5\" y=\"-7.8\" font-family=\"Times,serif\" font-size=\"14.00\" fill=\"#000000\">value = [45, 64]</text>\n</g>\n<!-- 5&#45;&gt;6 -->\n<g id=\"edge6\" class=\"edge\">\n<title>5&#45;&gt;6</title>\n<path fill=\"none\" stroke=\"#000000\" d=\"M342.0514,-88.9777C336.7678,-80.187 331.0684,-70.7044 325.7452,-61.8477\"/>\n<polygon fill=\"#000000\" stroke=\"#000000\" points=\"328.7282,-60.0165 320.5768,-53.2485 322.7285,-63.6225 328.7282,-60.0165\"/>\n</g>\n<!-- 7 -->\n<g id=\"node8\" class=\"node\">\n<title>7</title>\n<polygon fill=\"#e88f4f\" stroke=\"#000000\" points=\"487.5,-53 377.5,-53 377.5,0 487.5,0 487.5,-53\"/>\n<text text-anchor=\"start\" x=\"385.5\" y=\"-37.8\" font-family=\"Times,serif\" font-size=\"14.00\" fill=\"#000000\">entropy = 0.469</text>\n<text text-anchor=\"start\" x=\"394.5\" y=\"-22.8\" font-family=\"Times,serif\" font-size=\"14.00\" fill=\"#000000\">samples = 20</text>\n<text text-anchor=\"start\" x=\"389.5\" y=\"-7.8\" font-family=\"Times,serif\" font-size=\"14.00\" fill=\"#000000\">value = [18, 2]</text>\n</g>\n<!-- 5&#45;&gt;7 -->\n<g id=\"edge7\" class=\"edge\">\n<title>5&#45;&gt;7</title>\n<path fill=\"none\" stroke=\"#000000\" d=\"M387.1794,-88.9777C393.6225,-80.0954 400.578,-70.5067 407.0598,-61.5711\"/>\n<polygon fill=\"#000000\" stroke=\"#000000\" points=\"410.0583,-63.3982 413.097,-53.2485 404.3921,-59.288 410.0583,-63.3982\"/>\n</g>\n<!-- 9 -->\n<g id=\"node10\" class=\"node\">\n<title>9</title>\n<polygon fill=\"#e99458\" stroke=\"#000000\" points=\"679,-157 562,-157 562,-89 679,-89 679,-157\"/>\n<text text-anchor=\"start\" x=\"587.5\" y=\"-141.8\" font-family=\"Times,serif\" font-size=\"14.00\" fill=\"#000000\">Age ≤ 13.5</text>\n<text text-anchor=\"start\" x=\"573.5\" y=\"-126.8\" font-family=\"Times,serif\" font-size=\"14.00\" fill=\"#000000\">entropy = 0.567</text>\n<text text-anchor=\"start\" x=\"578.5\" y=\"-111.8\" font-family=\"Times,serif\" font-size=\"14.00\" fill=\"#000000\">samples = 367</text>\n<text text-anchor=\"start\" x=\"570\" y=\"-96.8\" font-family=\"Times,serif\" font-size=\"14.00\" fill=\"#000000\">value = [318, 49]</text>\n</g>\n<!-- 8&#45;&gt;9 -->\n<g id=\"edge9\" class=\"edge\">\n<title>8&#45;&gt;9</title>\n<path fill=\"none\" stroke=\"#000000\" d=\"M620.5,-192.9465C620.5,-184.776 620.5,-175.9318 620.5,-167.3697\"/>\n<polygon fill=\"#000000\" stroke=\"#000000\" points=\"624.0001,-167.13 620.5,-157.13 617.0001,-167.13 624.0001,-167.13\"/>\n</g>\n<!-- 12 -->\n<g id=\"node13\" class=\"node\">\n<title>12</title>\n<polygon fill=\"#f3c4a2\" stroke=\"#000000\" points=\"875,-157 758,-157 758,-89 875,-89 875,-157\"/>\n<text text-anchor=\"start\" x=\"775.5\" y=\"-141.8\" font-family=\"Times,serif\" font-size=\"14.00\" fill=\"#000000\">Fare ≤ 26.469</text>\n<text text-anchor=\"start\" x=\"769.5\" y=\"-126.8\" font-family=\"Times,serif\" font-size=\"14.00\" fill=\"#000000\">entropy = 0.931</text>\n<text text-anchor=\"start\" x=\"774.5\" y=\"-111.8\" font-family=\"Times,serif\" font-size=\"14.00\" fill=\"#000000\">samples = 153</text>\n<text text-anchor=\"start\" x=\"766\" y=\"-96.8\" font-family=\"Times,serif\" font-size=\"14.00\" fill=\"#000000\">value = [100, 53]</text>\n</g>\n<!-- 8&#45;&gt;12 -->\n<g id=\"edge12\" class=\"edge\">\n<title>8&#45;&gt;12</title>\n<path fill=\"none\" stroke=\"#000000\" d=\"M683.0545,-193.8078C704.0326,-182.6766 727.5152,-170.2164 748.8644,-158.8883\"/>\n<polygon fill=\"#000000\" stroke=\"#000000\" points=\"750.6769,-161.8888 757.8699,-154.1099 747.3958,-155.7053 750.6769,-161.8888\"/>\n</g>\n<!-- 10 -->\n<g id=\"node11\" class=\"node\">\n<title>10</title>\n<polygon fill=\"#5aade9\" stroke=\"#000000\" points=\"615.5,-53 505.5,-53 505.5,0 615.5,0 615.5,-53\"/>\n<text text-anchor=\"start\" x=\"513.5\" y=\"-37.8\" font-family=\"Times,serif\" font-size=\"14.00\" fill=\"#000000\">entropy = 0.592</text>\n<text text-anchor=\"start\" x=\"522.5\" y=\"-22.8\" font-family=\"Times,serif\" font-size=\"14.00\" fill=\"#000000\">samples = 14</text>\n<text text-anchor=\"start\" x=\"517.5\" y=\"-7.8\" font-family=\"Times,serif\" font-size=\"14.00\" fill=\"#000000\">value = [2, 12]</text>\n</g>\n<!-- 9&#45;&gt;10 -->\n<g id=\"edge10\" class=\"edge\">\n<title>9&#45;&gt;10</title>\n<path fill=\"none\" stroke=\"#000000\" d=\"M599.3462,-88.9777C593.8805,-80.187 587.9846,-70.7044 582.4778,-61.8477\"/>\n<polygon fill=\"#000000\" stroke=\"#000000\" points=\"585.3837,-59.8927 577.1312,-53.2485 579.4391,-63.5889 585.3837,-59.8927\"/>\n</g>\n<!-- 11 -->\n<g id=\"node12\" class=\"node\">\n<title>11</title>\n<polygon fill=\"#e89050\" stroke=\"#000000\" points=\"751,-53 634,-53 634,0 751,0 751,-53\"/>\n<text text-anchor=\"start\" x=\"645.5\" y=\"-37.8\" font-family=\"Times,serif\" font-size=\"14.00\" fill=\"#000000\">entropy = 0.484</text>\n<text text-anchor=\"start\" x=\"650.5\" y=\"-22.8\" font-family=\"Times,serif\" font-size=\"14.00\" fill=\"#000000\">samples = 353</text>\n<text text-anchor=\"start\" x=\"642\" y=\"-7.8\" font-family=\"Times,serif\" font-size=\"14.00\" fill=\"#000000\">value = [316, 37]</text>\n</g>\n<!-- 9&#45;&gt;11 -->\n<g id=\"edge11\" class=\"edge\">\n<title>9&#45;&gt;11</title>\n<path fill=\"none\" stroke=\"#000000\" d=\"M645.8845,-88.9777C652.58,-80.0039 659.8135,-70.3089 666.539,-61.295\"/>\n<polygon fill=\"#000000\" stroke=\"#000000\" points=\"669.3677,-63.3565 672.5426,-53.2485 663.7573,-59.1704 669.3677,-63.3565\"/>\n</g>\n<!-- 13 -->\n<g id=\"node14\" class=\"node\">\n<title>13</title>\n<polygon fill=\"#399de5\" stroke=\"#000000\" points=\"864,-53 769,-53 769,0 864,0 864,-53\"/>\n<text text-anchor=\"start\" x=\"777\" y=\"-37.8\" font-family=\"Times,serif\" font-size=\"14.00\" fill=\"#000000\">entropy = 0.0</text>\n<text text-anchor=\"start\" x=\"782\" y=\"-22.8\" font-family=\"Times,serif\" font-size=\"14.00\" fill=\"#000000\">samples = 4</text>\n<text text-anchor=\"start\" x=\"777\" y=\"-7.8\" font-family=\"Times,serif\" font-size=\"14.00\" fill=\"#000000\">value = [0, 4]</text>\n</g>\n<!-- 12&#45;&gt;13 -->\n<g id=\"edge13\" class=\"edge\">\n<title>12&#45;&gt;13</title>\n<path fill=\"none\" stroke=\"#000000\" d=\"M816.5,-88.9777C816.5,-80.7364 816.5,-71.887 816.5,-63.5153\"/>\n<polygon fill=\"#000000\" stroke=\"#000000\" points=\"820.0001,-63.2484 816.5,-53.2485 813.0001,-63.2485 820.0001,-63.2484\"/>\n</g>\n<!-- 14 -->\n<g id=\"node15\" class=\"node\">\n<title>14</title>\n<polygon fill=\"#f2bf9a\" stroke=\"#000000\" points=\"999,-53 882,-53 882,0 999,0 999,-53\"/>\n<text text-anchor=\"start\" x=\"893.5\" y=\"-37.8\" font-family=\"Times,serif\" font-size=\"14.00\" fill=\"#000000\">entropy = 0.914</text>\n<text text-anchor=\"start\" x=\"898.5\" y=\"-22.8\" font-family=\"Times,serif\" font-size=\"14.00\" fill=\"#000000\">samples = 149</text>\n<text text-anchor=\"start\" x=\"890\" y=\"-7.8\" font-family=\"Times,serif\" font-size=\"14.00\" fill=\"#000000\">value = [100, 49]</text>\n</g>\n<!-- 12&#45;&gt;14 -->\n<g id=\"edge14\" class=\"edge\">\n<title>12&#45;&gt;14</title>\n<path fill=\"none\" stroke=\"#000000\" d=\"M860.2178,-88.9777C872.4549,-79.4545 885.7355,-69.1191 897.9066,-59.6473\"/>\n<polygon fill=\"#000000\" stroke=\"#000000\" points=\"900.3866,-62.1523 906.1289,-53.2485 896.0875,-56.628 900.3866,-62.1523\"/>\n</g>\n</g>\n</svg>\n"
          },
          "metadata": {
            "tags": []
          },
          "execution_count": 33
        }
      ]
    },
    {
      "cell_type": "markdown",
      "metadata": {
        "id": "b2VC_9C_PeuD"
      },
      "source": [
        "## Сравнение метрик"
      ]
    },
    {
      "cell_type": "code",
      "metadata": {
        "id": "9x70s9LaPeuE",
        "scrolled": true
      },
      "source": [
        "# метрики при обучении, используя библиотеку sklearn\n",
        "skl_roc_train = roc_auc_score(y_train, y_pred_train)\n",
        "skl_roc_test = roc_auc_score(y_test, y_pred_test)\n",
        "\n",
        "# метрики при обучении, используя собственный алгоритм\n",
        "my_roc_train = roc_auc_score(y_train, my_pred_train)\n",
        "my_roc_test = roc_auc_score(y_test, my_pred_test)"
      ],
      "execution_count": null,
      "outputs": []
    },
    {
      "cell_type": "code",
      "metadata": {
        "id": "clOhv57YPeuH"
      },
      "source": [
        "assert abs(my_roc_test - 0.6) >= 0.2"
      ],
      "execution_count": null,
      "outputs": []
    },
    {
      "cell_type": "code",
      "metadata": {
        "colab": {
          "base_uri": "https://localhost:8080/",
          "height": 390
        },
        "id": "KtMWxy0zCFWm",
        "outputId": "689f80d3-3ff3-4213-c1b1-c856e51f173b"
      },
      "source": [
        "n_train = 150        \n",
        "n_test = 1000       \n",
        "noise = 0.1\n",
        "\n",
        "def f(x):\n",
        "    x = x.ravel()\n",
        "    return np.exp(-x ** 2) + 1.5 * np.exp(-(x - 2) ** 2)\n",
        "\n",
        "def generate(n_samples, noise):\n",
        "    X = np.random.rand(n_samples) * 10 - 5\n",
        "\n",
        "    X = np.sort(X).ravel()\n",
        "\n",
        "    y = np.exp(-X ** 2) + 1.5 * np.exp(-(X - 2) ** 2) + \\\n",
        "    np.random.normal(0.0, noise, n_samples)\n",
        "\n",
        "    X = X.reshape((n_samples, 1))\n",
        "\n",
        "    return X, y\n",
        "\n",
        "X_train, y_train = generate(n_samples=n_train, noise=noise)\n",
        "X_test, y_test = generate(n_samples=n_test, noise=noise)\n",
        "\n",
        "from sklearn.tree import DecisionTreeRegressor\n",
        "\n",
        "reg_tree = DecisionTreeRegressor(max_depth=5, random_state=17)\n",
        "\n",
        "reg_tree.fit(X_train, y_train)\n",
        "reg_tree_pred = reg_tree.predict(X_test)\n",
        "\n",
        "plt.figure(figsize=(10, 6))\n",
        "plt.plot(X_test, f(X_test), \"b\")\n",
        "plt.plot(X_test, f(X_test), \"b\")\n",
        "plt.scatter(X_train, y_train, c=\"b\", s=20)\n",
        "plt.plot(X_test, reg_tree_pred, \"g\", lw=2)\n",
        "plt.xlim([-5, 5])\n",
        "plt.title(\"Decision tree regressor, MSE = %.2f\" % np.sum((y_test - reg_tree_pred) ** 2))\n",
        "plt.show()"
      ],
      "execution_count": null,
      "outputs": [
        {
          "output_type": "display_data",
          "data": {
            "image/png": "[encoded data removed]",
            "text/plain": [
              "<Figure size 720x432 with 1 Axes>"
            ]
          },
          "metadata": {
            "tags": [],
            "needs_background": "light"
          }
        }
      ]
    }
  ]
}