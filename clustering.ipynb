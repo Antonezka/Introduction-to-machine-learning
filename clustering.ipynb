{
  "nbformat": 4,
  "nbformat_minor": 0,
  "metadata": {
    "kernelspec": {
      "display_name": "Python 3",
      "language": "python",
      "name": "python3"
    },
    "language_info": {
      "codemirror_mode": {
        "name": "ipython",
        "version": 3
      },
      "file_extension": ".py",
      "mimetype": "text/x-python",
      "name": "python",
      "nbconvert_exporter": "python",
      "pygments_lexer": "ipython3",
      "version": "3.7.6"
    },
    "colab": {
      "name": "clustering_Anthony.ipynb",
      "provenance": [],
      "collapsed_sections": [
        "5qG-jCHzB4fp"
      ]
    }
  },
  "cells": [
    {
      "cell_type": "markdown",
      "metadata": {
        "id": "5qG-jCHzB4fp"
      },
      "source": [
        "## Задание 1\n",
        "\n",
        "[kaggle task](https://www.kaggle.com/vjchoudhary7/customer-segmentation-tutorial-in-python)\n",
        "\n",
        "Есть датасет с характеристиками покупателей в магазине.\n",
        "<br>\n",
        "Требуется разбить покупателей на k кластеров (выбор k остается за тобой), посчитать силуэт и визуализировать полученные кластеры\n",
        "\n",
        "Выбор k должен быть обоснован, применять можно абсолютно любые алгоритмы.\n",
        "\n",
        "**Заметка**: можно генерировать новые признаки и/или не использовать все имеющиеся, да и вообще делать все, что угодно и не противоречит здравому смыслу :)\n",
        "\n",
        "**Не забывай фиксировать random_state для воспроизводимости результатов, где это требуется**"
      ]
    },
    {
      "cell_type": "code",
      "metadata": {
        "id": "83jTvkzRiWIY"
      },
      "source": [
        "pip install MulticoreTSNE"
      ],
      "execution_count": null,
      "outputs": []
    },
    {
      "cell_type": "code",
      "metadata": {
        "id": "0Qfhl8-bB4fw"
      },
      "source": [
        "import matplotlib.pyplot as plt\n",
        "\n",
        "import numpy as np\n",
        "import pandas as pd\n",
        "\n",
        "from sklearn.cluster import KMeans, AgglomerativeClustering, DBSCAN\n",
        "\n",
        "from MulticoreTSNE import MulticoreTSNE as TSNE\n",
        "from sklearn.decomposition import PCA\n",
        "\n",
        "from sklearn.metrics import silhouette_score\n",
        "\n",
        "from pathlib import Path\n",
        "\n",
        "from sklearn.metrics import accuracy_score\n",
        "\n",
        "##other libraries on need##"
      ],
      "execution_count": null,
      "outputs": []
    },
    {
      "cell_type": "code",
      "metadata": {
        "id": "6mJMNaTldEu0"
      },
      "source": [
        "SEED = 42"
      ],
      "execution_count": null,
      "outputs": []
    },
    {
      "cell_type": "code",
      "metadata": {
        "colab": {
          "base_uri": "https://localhost:8080/",
          "height": 212
        },
        "id": "pF12NlUZB4fx",
        "outputId": "cc7d44c7-e031-4e62-b6ff-7765016363bf"
      },
      "source": [
        "X = pd.read_csv(Path('mall_customers.csv'))\n",
        "print(X.shape)\n",
        "X.head()"
      ],
      "execution_count": null,
      "outputs": [
        {
          "output_type": "stream",
          "text": [
            "(200, 5)\n"
          ],
          "name": "stdout"
        },
        {
          "output_type": "execute_result",
          "data": {
            "text/html": [
              "<div>\n",
              "<style scoped>\n",
              "    .dataframe tbody tr th:only-of-type {\n",
              "        vertical-align: middle;\n",
              "    }\n",
              "\n",
              "    .dataframe tbody tr th {\n",
              "        vertical-align: top;\n",
              "    }\n",
              "\n",
              "    .dataframe thead th {\n",
              "        text-align: right;\n",
              "    }\n",
              "</style>\n",
              "<table border=\"1\" class=\"dataframe\">\n",
              "  <thead>\n",
              "    <tr style=\"text-align: right;\">\n",
              "      <th></th>\n",
              "      <th>CustomerID</th>\n",
              "      <th>Gender</th>\n",
              "      <th>Age</th>\n",
              "      <th>Annual Income (k$)</th>\n",
              "      <th>Spending Score (1-100)</th>\n",
              "    </tr>\n",
              "  </thead>\n",
              "  <tbody>\n",
              "    <tr>\n",
              "      <th>0</th>\n",
              "      <td>1</td>\n",
              "      <td>Male</td>\n",
              "      <td>19</td>\n",
              "      <td>15</td>\n",
              "      <td>39</td>\n",
              "    </tr>\n",
              "    <tr>\n",
              "      <th>1</th>\n",
              "      <td>2</td>\n",
              "      <td>Male</td>\n",
              "      <td>21</td>\n",
              "      <td>15</td>\n",
              "      <td>81</td>\n",
              "    </tr>\n",
              "    <tr>\n",
              "      <th>2</th>\n",
              "      <td>3</td>\n",
              "      <td>Female</td>\n",
              "      <td>20</td>\n",
              "      <td>16</td>\n",
              "      <td>6</td>\n",
              "    </tr>\n",
              "    <tr>\n",
              "      <th>3</th>\n",
              "      <td>4</td>\n",
              "      <td>Female</td>\n",
              "      <td>23</td>\n",
              "      <td>16</td>\n",
              "      <td>77</td>\n",
              "    </tr>\n",
              "    <tr>\n",
              "      <th>4</th>\n",
              "      <td>5</td>\n",
              "      <td>Female</td>\n",
              "      <td>31</td>\n",
              "      <td>17</td>\n",
              "      <td>40</td>\n",
              "    </tr>\n",
              "  </tbody>\n",
              "</table>\n",
              "</div>"
            ],
            "text/plain": [
              "   CustomerID  Gender  Age  Annual Income (k$)  Spending Score (1-100)\n",
              "0           1    Male   19                  15                      39\n",
              "1           2    Male   21                  15                      81\n",
              "2           3  Female   20                  16                       6\n",
              "3           4  Female   23                  16                      77\n",
              "4           5  Female   31                  17                      40"
            ]
          },
          "metadata": {
            "tags": []
          },
          "execution_count": 124
        }
      ]
    },
    {
      "cell_type": "code",
      "metadata": {
        "colab": {
          "base_uri": "https://localhost:8080/",
          "height": 195
        },
        "id": "IjUKrAfFdNyQ",
        "outputId": "4c88c9be-a9de-4064-cae8-6c84b2247d6b"
      },
      "source": [
        "X = X.replace(to_replace=['Male', 'Female'], value=[1, 0])\n",
        "X.head()"
      ],
      "execution_count": null,
      "outputs": [
        {
          "output_type": "execute_result",
          "data": {
            "text/html": [
              "<div>\n",
              "<style scoped>\n",
              "    .dataframe tbody tr th:only-of-type {\n",
              "        vertical-align: middle;\n",
              "    }\n",
              "\n",
              "    .dataframe tbody tr th {\n",
              "        vertical-align: top;\n",
              "    }\n",
              "\n",
              "    .dataframe thead th {\n",
              "        text-align: right;\n",
              "    }\n",
              "</style>\n",
              "<table border=\"1\" class=\"dataframe\">\n",
              "  <thead>\n",
              "    <tr style=\"text-align: right;\">\n",
              "      <th></th>\n",
              "      <th>CustomerID</th>\n",
              "      <th>Gender</th>\n",
              "      <th>Age</th>\n",
              "      <th>Annual Income (k$)</th>\n",
              "      <th>Spending Score (1-100)</th>\n",
              "    </tr>\n",
              "  </thead>\n",
              "  <tbody>\n",
              "    <tr>\n",
              "      <th>0</th>\n",
              "      <td>1</td>\n",
              "      <td>1</td>\n",
              "      <td>19</td>\n",
              "      <td>15</td>\n",
              "      <td>39</td>\n",
              "    </tr>\n",
              "    <tr>\n",
              "      <th>1</th>\n",
              "      <td>2</td>\n",
              "      <td>1</td>\n",
              "      <td>21</td>\n",
              "      <td>15</td>\n",
              "      <td>81</td>\n",
              "    </tr>\n",
              "    <tr>\n",
              "      <th>2</th>\n",
              "      <td>3</td>\n",
              "      <td>0</td>\n",
              "      <td>20</td>\n",
              "      <td>16</td>\n",
              "      <td>6</td>\n",
              "    </tr>\n",
              "    <tr>\n",
              "      <th>3</th>\n",
              "      <td>4</td>\n",
              "      <td>0</td>\n",
              "      <td>23</td>\n",
              "      <td>16</td>\n",
              "      <td>77</td>\n",
              "    </tr>\n",
              "    <tr>\n",
              "      <th>4</th>\n",
              "      <td>5</td>\n",
              "      <td>0</td>\n",
              "      <td>31</td>\n",
              "      <td>17</td>\n",
              "      <td>40</td>\n",
              "    </tr>\n",
              "  </tbody>\n",
              "</table>\n",
              "</div>"
            ],
            "text/plain": [
              "   CustomerID  Gender  Age  Annual Income (k$)  Spending Score (1-100)\n",
              "0           1       1   19                  15                      39\n",
              "1           2       1   21                  15                      81\n",
              "2           3       0   20                  16                       6\n",
              "3           4       0   23                  16                      77\n",
              "4           5       0   31                  17                      40"
            ]
          },
          "metadata": {
            "tags": []
          },
          "execution_count": 125
        }
      ]
    },
    {
      "cell_type": "markdown",
      "metadata": {
        "id": "XCboDJAlbZWU"
      },
      "source": [
        "PCA"
      ]
    },
    {
      "cell_type": "code",
      "metadata": {
        "colab": {
          "base_uri": "https://localhost:8080/",
          "height": 282
        },
        "id": "F_Tb0GG7kqR1",
        "outputId": "8e924811-8c5a-4228-a3f7-16dd7b1e7b09"
      },
      "source": [
        "pca = PCA(n_components=2, random_state=SEED).fit(X)\n",
        "X_pca = pca.transform(X)\n",
        "plt.scatter(X_pca[:,0], X_pca[:,1])"
      ],
      "execution_count": null,
      "outputs": [
        {
          "output_type": "execute_result",
          "data": {
            "text/plain": [
              "<matplotlib.collections.PathCollection at 0x7f980fed6ef0>"
            ]
          },
          "metadata": {
            "tags": []
          },
          "execution_count": 126
        },
        {
          "output_type": "display_data",
          "data": {
            "image/png": "[encoded data removed]",
            "text/plain": [
              "<Figure size 432x288 with 1 Axes>"
            ]
          },
          "metadata": {
            "tags": [],
            "needs_background": "light"
          }
        }
      ]
    },
    {
      "cell_type": "code",
      "metadata": {
        "colab": {
          "base_uri": "https://localhost:8080/",
          "height": 281
        },
        "id": "EvgZbb5oRPq7",
        "outputId": "eeb169c3-dae5-4949-e183-a6ae6e4e7101"
      },
      "source": [
        "inertia = []\n",
        "for k in range(1, 10):\n",
        "    kmeans = KMeans(n_clusters=k, random_state=1).fit(X_pca)\n",
        "    inertia.append(kmeans.inertia_)\n",
        "\n",
        "plt.plot(range(1, 10), inertia, marker='s');\n",
        "plt.xlabel('$k$')\n",
        "plt.ylabel('$\\Phi_0$');"
      ],
      "execution_count": null,
      "outputs": [
        {
          "output_type": "display_data",
          "data": {
            "image/png": "[encoded data removed]",
            "text/plain": [
              "<Figure size 432x288 with 1 Axes>"
            ]
          },
          "metadata": {
            "tags": [],
            "needs_background": "light"
          }
        }
      ]
    },
    {
      "cell_type": "markdown",
      "metadata": {
        "id": "7aMiZM5kpAJj"
      },
      "source": [
        "K-means"
      ]
    },
    {
      "cell_type": "code",
      "metadata": {
        "colab": {
          "base_uri": "https://localhost:8080/",
          "height": 483
        },
        "id": "f8o0_JCvk1yA",
        "outputId": "680197cc-f1c8-43f3-c32e-82941420d4f2"
      },
      "source": [
        "#fit\n",
        "kmeans = KMeans(n_clusters=5, n_jobs=-1).fit(X_pca)\n",
        "#predict\n",
        "yhat_kmeans = kmeans.predict(X_pca) #=kmeans.labels_\n",
        "\n",
        "#plot\n",
        "colors = ['c' if x==0 else 'b' if x==1 else 'g' if x==2 else 'orange' if x==3 else 'black' for x in yhat_kmeans]\n",
        "\n",
        "plt.figure(figsize=(8,8))\n",
        "for i in range(kmeans.cluster_centers_.shape[0]):\n",
        "    plt.plot(kmeans.cluster_centers_[i, 0], kmeans.cluster_centers_[i, 1], 'rX')\n",
        "plt.scatter(X_pca[:,0], X_pca[:,1], c=colors, picker=True);"
      ],
      "execution_count": null,
      "outputs": [
        {
          "output_type": "display_data",
          "data": {
            "image/png": "[encoded data removed]",
            "text/plain": [
              "<Figure size 576x576 with 1 Axes>"
            ]
          },
          "metadata": {
            "tags": [],
            "needs_background": "light"
          }
        }
      ]
    },
    {
      "cell_type": "code",
      "metadata": {
        "colab": {
          "base_uri": "https://localhost:8080/"
        },
        "id": "7GykapWHryuy",
        "outputId": "5382d8d6-851f-45a0-8d92-b0595a11eda4"
      },
      "source": [
        "print(f'Silhouette score K-means: {silhouette_score(X_pca, yhat_kmeans)}')"
      ],
      "execution_count": null,
      "outputs": [
        {
          "output_type": "stream",
          "text": [
            "Silhouette score K-means: 0.4835425351538953\n"
          ],
          "name": "stdout"
        }
      ]
    },
    {
      "cell_type": "markdown",
      "metadata": {
        "id": "aOS9KQFxtBAv"
      },
      "source": [
        "t-SNE"
      ]
    },
    {
      "cell_type": "code",
      "metadata": {
        "id": "o6xQvLx-s__e"
      },
      "source": [
        "X_reduc = TSNE(n_components=2, random_state=SEED, metric='euclidean', n_jobs=-1).fit_transform(X)"
      ],
      "execution_count": null,
      "outputs": []
    },
    {
      "cell_type": "code",
      "metadata": {
        "colab": {
          "base_uri": "https://localhost:8080/",
          "height": 445
        },
        "id": "MYDSzkPLtVai",
        "outputId": "04c5692a-5c5e-4962-952e-fd4429e8e69e"
      },
      "source": [
        "plt.figure(figsize=(10, 7))\n",
        "plt.scatter(X_reduc[:, 0], X_reduc[:, 1])"
      ],
      "execution_count": null,
      "outputs": [
        {
          "output_type": "execute_result",
          "data": {
            "text/plain": [
              "<matplotlib.collections.PathCollection at 0x7f980ee3a908>"
            ]
          },
          "metadata": {
            "tags": []
          },
          "execution_count": 131
        },
        {
          "output_type": "display_data",
          "data": {
            "image/png": "[encoded data removed]",
            "text/plain": [
              "<Figure size 720x504 with 1 Axes>"
            ]
          },
          "metadata": {
            "tags": [],
            "needs_background": "light"
          }
        }
      ]
    },
    {
      "cell_type": "markdown",
      "metadata": {
        "id": "BgLrK2dJt--T"
      },
      "source": [
        "DBSCAN"
      ]
    },
    {
      "cell_type": "code",
      "metadata": {
        "colab": {
          "base_uri": "https://localhost:8080/",
          "height": 483
        },
        "id": "Dcw8Zql0trAT",
        "outputId": "6110fba3-ac5b-4f34-e6d1-5e63d440e2b2"
      },
      "source": [
        "dbscan = DBSCAN(eps=1.2, min_samples=5, n_jobs=-1).fit(X_reduc)\n",
        "yhat_dbscan = dbscan.labels_\n",
        "\n",
        "colors = ['c' if x==0 else 'b' if x==1 else 'g' if x==2 else 'orange' if x==3 else 'r' if x==4 else 'black'  for x in yhat_dbscan]\n",
        "#plot\n",
        "plt.figure(figsize=(8,8))\n",
        "plt.scatter(X_reduc[:,0], X_reduc[:,1], c=colors, picker=True);"
      ],
      "execution_count": null,
      "outputs": [
        {
          "output_type": "display_data",
          "data": {
            "image/png": "[encoded data removed]",
            "text/plain": [
              "<Figure size 576x576 with 1 Axes>"
            ]
          },
          "metadata": {
            "tags": [],
            "needs_background": "light"
          }
        }
      ]
    },
    {
      "cell_type": "code",
      "metadata": {
        "colab": {
          "base_uri": "https://localhost:8080/"
        },
        "id": "TfezKyhow_rM",
        "outputId": "da7422fb-fa83-4d81-8a59-d595dc005873"
      },
      "source": [
        "print(f'Silhouette score DBSCAN: {silhouette_score(X_reduc, yhat_dbscan)}')"
      ],
      "execution_count": null,
      "outputs": [
        {
          "output_type": "stream",
          "text": [
            "Silhouette score DBSCAN: 0.44266152925871843\n"
          ],
          "name": "stdout"
        }
      ]
    },
    {
      "cell_type": "markdown",
      "metadata": {
        "id": "bT5ZTOS1B4fz"
      },
      "source": [
        "## Задание 2 (по желанию)\n",
        "\n",
        "Возьмем стандартный датасет ирисов, состоящий из 4-х признаков длины/ширины внутренней и наружной долей околоцветника и таргета - вид цветка (kind).\n",
        "\n",
        "1.Требуется кластеризовать цветки (да-да, количество кластеров уже известно), посчитать **accuracy**. Выбор алгоритма опять же на усмотрение (может быть несколько)\n",
        "<br>\n",
        "**Важно**: метки могут расставиться в другом порядке относительно истинного таргета, то есть после кластеризации будут получены 0, а это на самом деле 1, то есть надо сделать отображение $0 \\rightarrow 1$ , то же самое касается и других меток. \n",
        "<br>\n",
        "Поэтому, получив метки кластеров, стоит перебрать все возможные их перестановки. В этом поможет itertools.permutations\n",
        "\n",
        "2.Воспользоваться любым/любыми пройденными/известными алгоритмами классификации и посчитать **accuracy** \n",
        "<br>\n",
        "(Например, логистической регрессией)"
      ]
    },
    {
      "cell_type": "code",
      "metadata": {
        "id": "rCo3tr3sB4f0"
      },
      "source": [
        "from sklearn import datasets\n",
        "import itertools\n",
        "\n",
        "##other libraries on need##"
      ],
      "execution_count": null,
      "outputs": []
    },
    {
      "cell_type": "code",
      "metadata": {
        "colab": {
          "base_uri": "https://localhost:8080/",
          "height": 212
        },
        "id": "is8f7p6JB4f0",
        "outputId": "b83ec1be-90b6-4916-d5d6-83fcd0f842e1"
      },
      "source": [
        "df = datasets.load_iris()\n",
        "df = pd.DataFrame(np.hstack([df['data'], df['target'].reshape(-1,1)])\n",
        "             , columns=['sepal_length', 'sepal_width', 'petal_length', 'petal_width', 'kind'])\n",
        "\n",
        "print('Count of unique flowers', df['kind'].unique().shape[0])\n",
        "df.head()"
      ],
      "execution_count": null,
      "outputs": [
        {
          "output_type": "stream",
          "text": [
            "Count of unique flowers 3\n"
          ],
          "name": "stdout"
        },
        {
          "output_type": "execute_result",
          "data": {
            "text/html": [
              "<div>\n",
              "<style scoped>\n",
              "    .dataframe tbody tr th:only-of-type {\n",
              "        vertical-align: middle;\n",
              "    }\n",
              "\n",
              "    .dataframe tbody tr th {\n",
              "        vertical-align: top;\n",
              "    }\n",
              "\n",
              "    .dataframe thead th {\n",
              "        text-align: right;\n",
              "    }\n",
              "</style>\n",
              "<table border=\"1\" class=\"dataframe\">\n",
              "  <thead>\n",
              "    <tr style=\"text-align: right;\">\n",
              "      <th></th>\n",
              "      <th>sepal_length</th>\n",
              "      <th>sepal_width</th>\n",
              "      <th>petal_length</th>\n",
              "      <th>petal_width</th>\n",
              "      <th>kind</th>\n",
              "    </tr>\n",
              "  </thead>\n",
              "  <tbody>\n",
              "    <tr>\n",
              "      <th>0</th>\n",
              "      <td>5.1</td>\n",
              "      <td>3.5</td>\n",
              "      <td>1.4</td>\n",
              "      <td>0.2</td>\n",
              "      <td>0.0</td>\n",
              "    </tr>\n",
              "    <tr>\n",
              "      <th>1</th>\n",
              "      <td>4.9</td>\n",
              "      <td>3.0</td>\n",
              "      <td>1.4</td>\n",
              "      <td>0.2</td>\n",
              "      <td>0.0</td>\n",
              "    </tr>\n",
              "    <tr>\n",
              "      <th>2</th>\n",
              "      <td>4.7</td>\n",
              "      <td>3.2</td>\n",
              "      <td>1.3</td>\n",
              "      <td>0.2</td>\n",
              "      <td>0.0</td>\n",
              "    </tr>\n",
              "    <tr>\n",
              "      <th>3</th>\n",
              "      <td>4.6</td>\n",
              "      <td>3.1</td>\n",
              "      <td>1.5</td>\n",
              "      <td>0.2</td>\n",
              "      <td>0.0</td>\n",
              "    </tr>\n",
              "    <tr>\n",
              "      <th>4</th>\n",
              "      <td>5.0</td>\n",
              "      <td>3.6</td>\n",
              "      <td>1.4</td>\n",
              "      <td>0.2</td>\n",
              "      <td>0.0</td>\n",
              "    </tr>\n",
              "  </tbody>\n",
              "</table>\n",
              "</div>"
            ],
            "text/plain": [
              "   sepal_length  sepal_width  petal_length  petal_width  kind\n",
              "0           5.1          3.5           1.4          0.2   0.0\n",
              "1           4.9          3.0           1.4          0.2   0.0\n",
              "2           4.7          3.2           1.3          0.2   0.0\n",
              "3           4.6          3.1           1.5          0.2   0.0\n",
              "4           5.0          3.6           1.4          0.2   0.0"
            ]
          },
          "metadata": {
            "tags": []
          },
          "execution_count": 8
        }
      ]
    },
    {
      "cell_type": "markdown",
      "metadata": {
        "id": "9DRvCD5NB4f1"
      },
      "source": [
        "### Кластеризация"
      ]
    },
    {
      "cell_type": "code",
      "metadata": {
        "id": "lWi8JCKgB4f1"
      },
      "source": [
        "def validate_with_mappings(y_true, y_pred):\n",
        "    '''\n",
        "    Check all possible permutations to maximize accuracy\n",
        "    '''\n",
        "    \n",
        "    l = []\n",
        "    permutations = itertools.permutations([0, 1, 2])\n",
        "    for a, b, c in permutations:\n",
        "        mapping = {0 : a, 1: b, 2: c}\n",
        "        #print(mapping)\n",
        "        mapped_preds = [mapping[pred] for pred in y_pred]\n",
        "        #print(mapped_preds)\n",
        "        l.append((mapping, sum(mapped_preds == y_true) / len(y_true)))\n",
        "        #print(l)         \n",
        "    return l"
      ],
      "execution_count": null,
      "outputs": []
    },
    {
      "cell_type": "code",
      "metadata": {
        "id": "DUngQr17B4f2"
      },
      "source": [
        "X = df.iloc[:, :-1]\n",
        "y = df['kind']"
      ],
      "execution_count": null,
      "outputs": []
    },
    {
      "cell_type": "code",
      "metadata": {
        "colab": {
          "base_uri": "https://localhost:8080/",
          "height": 195
        },
        "id": "ugpda2b3Yct1",
        "outputId": "99754c4a-55dd-4545-8168-066bb4b7d782"
      },
      "source": [
        "X.head()"
      ],
      "execution_count": null,
      "outputs": [
        {
          "output_type": "execute_result",
          "data": {
            "text/html": [
              "<div>\n",
              "<style scoped>\n",
              "    .dataframe tbody tr th:only-of-type {\n",
              "        vertical-align: middle;\n",
              "    }\n",
              "\n",
              "    .dataframe tbody tr th {\n",
              "        vertical-align: top;\n",
              "    }\n",
              "\n",
              "    .dataframe thead th {\n",
              "        text-align: right;\n",
              "    }\n",
              "</style>\n",
              "<table border=\"1\" class=\"dataframe\">\n",
              "  <thead>\n",
              "    <tr style=\"text-align: right;\">\n",
              "      <th></th>\n",
              "      <th>sepal_length</th>\n",
              "      <th>sepal_width</th>\n",
              "      <th>petal_length</th>\n",
              "      <th>petal_width</th>\n",
              "    </tr>\n",
              "  </thead>\n",
              "  <tbody>\n",
              "    <tr>\n",
              "      <th>0</th>\n",
              "      <td>5.1</td>\n",
              "      <td>3.5</td>\n",
              "      <td>1.4</td>\n",
              "      <td>0.2</td>\n",
              "    </tr>\n",
              "    <tr>\n",
              "      <th>1</th>\n",
              "      <td>4.9</td>\n",
              "      <td>3.0</td>\n",
              "      <td>1.4</td>\n",
              "      <td>0.2</td>\n",
              "    </tr>\n",
              "    <tr>\n",
              "      <th>2</th>\n",
              "      <td>4.7</td>\n",
              "      <td>3.2</td>\n",
              "      <td>1.3</td>\n",
              "      <td>0.2</td>\n",
              "    </tr>\n",
              "    <tr>\n",
              "      <th>3</th>\n",
              "      <td>4.6</td>\n",
              "      <td>3.1</td>\n",
              "      <td>1.5</td>\n",
              "      <td>0.2</td>\n",
              "    </tr>\n",
              "    <tr>\n",
              "      <th>4</th>\n",
              "      <td>5.0</td>\n",
              "      <td>3.6</td>\n",
              "      <td>1.4</td>\n",
              "      <td>0.2</td>\n",
              "    </tr>\n",
              "  </tbody>\n",
              "</table>\n",
              "</div>"
            ],
            "text/plain": [
              "   sepal_length  sepal_width  petal_length  petal_width\n",
              "0           5.1          3.5           1.4          0.2\n",
              "1           4.9          3.0           1.4          0.2\n",
              "2           4.7          3.2           1.3          0.2\n",
              "3           4.6          3.1           1.5          0.2\n",
              "4           5.0          3.6           1.4          0.2"
            ]
          },
          "metadata": {
            "tags": []
          },
          "execution_count": 87
        }
      ]
    },
    {
      "cell_type": "code",
      "metadata": {
        "colab": {
          "base_uri": "https://localhost:8080/",
          "height": 286
        },
        "id": "k80NUpEsY4gI",
        "outputId": "d3473148-befb-4143-a5e3-bf6c9ed6ae9c"
      },
      "source": [
        "pca = PCA(n_components=2, random_state=SEED).fit(X)\n",
        "X_pca = pca.transform(X)\n",
        "plt.scatter(X_pca[:,0], X_pca[:,1])"
      ],
      "execution_count": null,
      "outputs": [
        {
          "output_type": "execute_result",
          "data": {
            "text/plain": [
              "<matplotlib.collections.PathCollection at 0x7f98111c34e0>"
            ]
          },
          "metadata": {
            "tags": []
          },
          "execution_count": 166
        },
        {
          "output_type": "display_data",
          "data": {
            "image/png": "[encoded data removed]",
            "text/plain": [
              "<Figure size 432x288 with 1 Axes>"
            ]
          },
          "metadata": {
            "tags": [],
            "needs_background": "light"
          }
        }
      ]
    },
    {
      "cell_type": "code",
      "metadata": {
        "colab": {
          "base_uri": "https://localhost:8080/",
          "height": 285
        },
        "id": "QeLwosG2ZAI5",
        "outputId": "010b873d-cad4-4b27-b37b-04b3ed05e196"
      },
      "source": [
        "X_reduc = TSNE(n_components=2, random_state=SEED, metric='euclidean', n_jobs=-1).fit_transform(X)\n",
        "plt.scatter(X_reduc[:, 0], X_reduc[:, 1])"
      ],
      "execution_count": null,
      "outputs": [
        {
          "output_type": "execute_result",
          "data": {
            "text/plain": [
              "<matplotlib.collections.PathCollection at 0x7f980ffaf390>"
            ]
          },
          "metadata": {
            "tags": []
          },
          "execution_count": 89
        },
        {
          "output_type": "display_data",
          "data": {
            "image/png": "[encoded data removed]",
            "text/plain": [
              "<Figure size 432x288 with 1 Axes>"
            ]
          },
          "metadata": {
            "tags": [],
            "needs_background": "light"
          }
        }
      ]
    },
    {
      "cell_type": "code",
      "metadata": {
        "colab": {
          "base_uri": "https://localhost:8080/",
          "height": 484
        },
        "id": "9o1rF7HNZM31",
        "outputId": "d6754453-3c23-46a0-b3ff-b69a9cf6a365"
      },
      "source": [
        "#fit\n",
        "kmeans = KMeans(n_clusters=3, n_jobs=-1).fit(X_reduc)\n",
        "#predict\n",
        "yhat_kmeans = kmeans.predict(X_reduc) #=kmeans.labels_\n",
        "\n",
        "#plot\n",
        "colors = ['c' if x==0 else 'b' if x==1 else 'g'  for x in yhat_kmeans]\n",
        "\n",
        "plt.figure(figsize=(8,8))\n",
        "for i in range(kmeans.cluster_centers_.shape[0]):\n",
        "    plt.plot(kmeans.cluster_centers_[i, 0], kmeans.cluster_centers_[i, 1], 'rX')\n",
        "plt.scatter(X_reduc[:,0], X_reduc[:,1], c=colors, picker=True);"
      ],
      "execution_count": null,
      "outputs": [
        {
          "output_type": "display_data",
          "data": {
            "image/png": "[encoded data removed]",
            "text/plain": [
              "<Figure size 576x576 with 1 Axes>"
            ]
          },
          "metadata": {
            "tags": [],
            "needs_background": "light"
          }
        }
      ]
    },
    {
      "cell_type": "code",
      "metadata": {
        "colab": {
          "base_uri": "https://localhost:8080/"
        },
        "id": "hOcCZILFZtP5",
        "outputId": "a196318d-33d8-42b7-cbcc-c698985cd4d7"
      },
      "source": [
        "print(f'Silhouette score K-means: {silhouette_score(X_reduc, yhat_kmeans)}')"
      ],
      "execution_count": null,
      "outputs": [
        {
          "output_type": "stream",
          "text": [
            "Silhouette score K-means: 0.6793520344740945\n"
          ],
          "name": "stdout"
        }
      ]
    },
    {
      "cell_type": "code",
      "metadata": {
        "id": "RVY4nwCUn49Z"
      },
      "source": [
        "squarer = lambda x: 0 if x == 0 else 2 if x == 1 else 1\n",
        "yhat_kmeans1 = np.array([squarer(xi) for xi in yhat_kmeans])\n",
        "yhat_kmeans1"
      ],
      "execution_count": null,
      "outputs": []
    },
    {
      "cell_type": "code",
      "metadata": {
        "colab": {
          "base_uri": "https://localhost:8080/"
        },
        "id": "D-9f_xviZJt-",
        "outputId": "f5673118-d07b-4525-e4d0-7f904aece4ab"
      },
      "source": [
        "accuracy_score(y, yhat_kmeans1)"
      ],
      "execution_count": null,
      "outputs": [
        {
          "output_type": "execute_result",
          "data": {
            "text/plain": [
              "0.9133333333333333"
            ]
          },
          "metadata": {
            "tags": []
          },
          "execution_count": 98
        }
      ]
    },
    {
      "cell_type": "markdown",
      "metadata": {
        "id": "RYoHcT6hB4f2"
      },
      "source": [
        "### Классификация"
      ]
    },
    {
      "cell_type": "markdown",
      "metadata": {
        "id": "uMgPSuttD-Dz"
      },
      "source": [
        "Дерево решений"
      ]
    },
    {
      "cell_type": "code",
      "metadata": {
        "id": "WCZccEJ6xw4z"
      },
      "source": [
        "from sklearn.model_selection import train_test_split\n",
        "from sklearn import tree\n",
        "from sklearn.tree import DecisionTreeClassifier "
      ],
      "execution_count": null,
      "outputs": []
    },
    {
      "cell_type": "code",
      "metadata": {
        "id": "2WKFxjeQ4IGJ"
      },
      "source": [
        "X = df.iloc[:, :-1]\n",
        "y = df['kind']"
      ],
      "execution_count": null,
      "outputs": []
    },
    {
      "cell_type": "code",
      "metadata": {
        "colab": {
          "base_uri": "https://localhost:8080/"
        },
        "id": "ZJ-PmwWdB4f2",
        "outputId": "dc3a0d2f-a54d-486e-9e0d-939ef3ebc921"
      },
      "source": [
        "#на чистом датасете\n",
        "X_train, X_test, y_train, y_test = train_test_split(X, y, test_size=.3,\n",
        "                                                   # stratify=y\n",
        "                                                    random_state= SEED)\n",
        "\n",
        "clf = DecisionTreeClassifier(max_depth=2, random_state= SEED)\n",
        "clf.fit(X_train, y_train)\n",
        "preds = clf.predict_proba(X_test)\n",
        "#preds = clf.predict(X_test)\n",
        "print('Accuracy: {:.5f}'.format(accuracy_score(y_test, \n",
        "                                                preds.argmax(axis=1))))"
      ],
      "execution_count": null,
      "outputs": [
        {
          "output_type": "stream",
          "text": [
            "Accuracy: 0.97778\n"
          ],
          "name": "stdout"
        }
      ]
    },
    {
      "cell_type": "code",
      "metadata": {
        "id": "CF5X4QaO4I_F"
      },
      "source": [
        "X = df.iloc[:, :-1]\n",
        "y = df['kind']"
      ],
      "execution_count": null,
      "outputs": []
    },
    {
      "cell_type": "code",
      "metadata": {
        "colab": {
          "base_uri": "https://localhost:8080/"
        },
        "id": "XBuSMcDBD8R4",
        "outputId": "2a598fe9-c8b1-48d6-a9c7-1435b25724ec"
      },
      "source": [
        "#на данных после PCA\n",
        "X_train, X_test, y_train, y_test = train_test_split(X_pca, y, test_size=.3,\n",
        "                                                   # stratify=y\n",
        "                                                    random_state= SEED)\n",
        "\n",
        "clf = DecisionTreeClassifier(max_depth=2, random_state= SEED)\n",
        "clf.fit(X_train, y_train)\n",
        "preds = clf.predict_proba(X_test)\n",
        "#preds = clf.predict(X_test)\n",
        "print('Accuracy: {:.5f}'.format(accuracy_score(y_test, \n",
        "                                                preds.argmax(axis=1))))"
      ],
      "execution_count": null,
      "outputs": [
        {
          "output_type": "stream",
          "text": [
            "Accuracy: 0.95556\n"
          ],
          "name": "stdout"
        }
      ]
    },
    {
      "cell_type": "markdown",
      "metadata": {
        "id": "5huFIF6lFK5G"
      },
      "source": [
        "Лог регрессия"
      ]
    },
    {
      "cell_type": "code",
      "metadata": {
        "id": "Yao5GISZFOpJ"
      },
      "source": [
        "from sklearn.linear_model import LogisticRegression"
      ],
      "execution_count": null,
      "outputs": []
    },
    {
      "cell_type": "code",
      "metadata": {
        "id": "zqrleuOA4KSQ"
      },
      "source": [
        "X = df.iloc[:, :-1]\n",
        "y = df['kind']"
      ],
      "execution_count": null,
      "outputs": []
    },
    {
      "cell_type": "code",
      "metadata": {
        "id": "rOO7XXGzJpJz"
      },
      "source": [
        "pca = PCA(n_components=1, random_state=SEED).fit(X)\n",
        "X_pca = pca.transform(X)"
      ],
      "execution_count": null,
      "outputs": []
    },
    {
      "cell_type": "code",
      "metadata": {
        "colab": {
          "base_uri": "https://localhost:8080/"
        },
        "id": "5BKCZh0LJ4MJ",
        "outputId": "89879607-502e-4fa6-8bef-fbe9377507ce"
      },
      "source": [
        "X_train, X_test, y_train, y_test = train_test_split(X_pca, y, test_size=.3,\n",
        "                                                   # stratify=y\n",
        "                                                    random_state= SEED)\n",
        "\n",
        "clf = LogisticRegression(random_state=SEED).fit(X_train, y_train)\n",
        "#clf.predict(X_test)\n",
        "pred = clf.predict_proba(X_test)\n",
        "\n",
        "print('Accuracy: {:.5f}'.format(accuracy_score(y_test, \n",
        "                                                pred.argmax(axis=1))))"
      ],
      "execution_count": null,
      "outputs": [
        {
          "output_type": "stream",
          "text": [
            "Accuracy: 0.97778\n"
          ],
          "name": "stdout"
        }
      ]
    },
    {
      "cell_type": "code",
      "metadata": {
        "colab": {
          "base_uri": "https://localhost:8080/"
        },
        "id": "fSaEdD2vbOs_",
        "outputId": "519eb34c-b535-4f8a-af76-ed2c58967b70"
      },
      "source": [
        "pred.argmax(axis=1)"
      ],
      "execution_count": null,
      "outputs": [
        {
          "output_type": "execute_result",
          "data": {
            "text/plain": [
              "array([1, 0, 2, 1, 2, 0, 1, 2, 1, 1, 2, 0, 0, 0, 0, 1, 2, 1, 1, 2, 0, 2,\n",
              "       0, 2, 2, 2, 2, 2, 0, 0, 0, 0, 1, 0, 0, 2, 1, 0, 0, 0, 2, 1, 1, 0,\n",
              "       0])"
            ]
          },
          "metadata": {
            "tags": []
          },
          "execution_count": 46
        }
      ]
    },
    {
      "cell_type": "markdown",
      "metadata": {
        "id": "jvlPDXZCL-Nr"
      },
      "source": [
        "KNN"
      ]
    },
    {
      "cell_type": "code",
      "metadata": {
        "id": "UtcllOnc28YV"
      },
      "source": [
        "from sklearn.model_selection import StratifiedKFold\n",
        "from sklearn.neighbors import KNeighborsClassifier"
      ],
      "execution_count": null,
      "outputs": []
    },
    {
      "cell_type": "code",
      "metadata": {
        "id": "gag8TujFZHCL"
      },
      "source": [
        "X = df.iloc[:, :-1]\n",
        "y = df['kind']"
      ],
      "execution_count": null,
      "outputs": []
    },
    {
      "cell_type": "code",
      "metadata": {
        "id": "hEMC0raGYuai"
      },
      "source": [
        "X_train, X_holdout, y_train, y_holdout = train_test_split(X, y, test_size=0.3,\n",
        "random_state= SEED)\n",
        "\n",
        "knn = KNeighborsClassifier(n_neighbors=1)\n",
        "knn.fit(X_train, y_train)"
      ],
      "execution_count": null,
      "outputs": []
    },
    {
      "cell_type": "code",
      "metadata": {
        "colab": {
          "base_uri": "https://localhost:8080/"
        },
        "id": "fac7bFCpZRF0",
        "outputId": "364e3c5a-4310-483f-cdb6-b2a2d5140b91"
      },
      "source": [
        "knn_pred = knn.predict(X_holdout)\n",
        "accuracy_score(y_holdout, knn_pred)"
      ],
      "execution_count": null,
      "outputs": [
        {
          "output_type": "execute_result",
          "data": {
            "text/plain": [
              "1.0"
            ]
          },
          "metadata": {
            "tags": []
          },
          "execution_count": 43
        }
      ]
    }
  ]
}